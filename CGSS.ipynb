{
 "cells": [
  {
   "cell_type": "code",
   "execution_count": 6,
   "metadata": {
    "collapsed": true
   },
   "outputs": [],
   "source": [
    "import pandas as pd\n",
    "import numpy as np\n",
    "import matplotlib.pyplot as plt"
   ]
  },
  {
   "cell_type": "code",
   "execution_count": 23,
   "metadata": {
    "collapsed": false
   },
   "outputs": [],
   "source": [
    "df = pd.read_stata('./CGSS2017.dta', convert_categoricals=False, convert_missing=False)"
   ]
  },
  {
   "cell_type": "code",
   "execution_count": 24,
   "metadata": {
    "collapsed": false
   },
   "outputs": [],
   "source": [
    "#选择被调查者的受教育程度（A7a),性别（A2）,出生年份(A3_1)，政治面貌(A10),工作情况(A58),户籍(A18),14岁时家庭地位(A43_d)\n",
    "respondent = df.loc[:, ['a7a', 'a2', 'a31', 'a10', 'a58', 'a18', 'a43d']]\n",
    "#选择被调查者父亲的受教育程度(A89b)，政治面貌(A89c)，工作情况(A89d)，专业职称(A89f)，年龄(A89a)\n",
    "father = df.loc[:, ['a89b', 'a89c', 'a89d', 'a89f', 'a89a']]\n",
    "#选择被调查者母亲的受教育程度(A90b)，政治面貌(A90c)，工作情况(A90d)，专业职称(A90f)，年龄(A90a)\n",
    "mother = df.loc[:, ['a90b', 'a90c', 'a90d', 'a90f', 'a90a']]"
   ]
  },
  {
   "cell_type": "code",
   "execution_count": 25,
   "metadata": {
    "collapsed": false
   },
   "outputs": [
    {
     "data": {
      "text/plain": "count    12561.000000\nmean         5.165751\nstd          3.274600\nmin          1.000000\n25%          3.000000\n50%          4.000000\n75%          6.000000\nmax         13.000000\nName: 受教育程度, dtype: float64"
     },
     "execution_count": 25,
     "metadata": {},
     "output_type": "execute_result"
    }
   ],
   "source": [
    "respondent.loc[:, 'a7a'].describe().rename('受教育程度')"
   ]
  },
  {
   "cell_type": "code",
   "execution_count": 33,
   "outputs": [
    {
     "data": {
      "text/plain": "0    0\n1    0\n2    0\n3    0\n4    0\nName: a58, dtype: int64"
     },
     "execution_count": 33,
     "metadata": {},
     "output_type": "execute_result"
    }
   ],
   "source": [
    "#数据预处理\n",
    "respondent['a31'] = 2023 - respondent['a31']  #计算被调查者年龄\n",
    "father['a89a'] = 2023 - father['a89a']  #计算父亲年龄\n",
    "mother['a90a'] = 2023 - mother['a90a']  #计算母亲年龄\n",
    "\n",
    "respondent['a10'] = respondent['a10'].apply(lambda x: 1 if x == 4 else 0)  #被调查者是否是共产党员\n",
    "father['a89c'] = father['a89c'].apply(lambda x: 1 if x == 4 else 0)  #父亲是否是共产党员\n",
    "mother['a90c'] = mother['a90c'].apply(lambda x: 1 if x == 4 else 0)  #母亲是否是共产党员\n",
    "\n",
    "respondent['a58'] = respondent['a58'].apply(lambda x: 1 if x == 2 or x == 4 or x == 3 else 0)  #被调查者是否全职务农\n",
    "father['a89d'] = father['a89d'].apply(lambda x: 1 if x == 2 or x == 4 or x == 3 else 0)  #父亲是否全职务农\n",
    "mother['a90d'] = mother['a90d'].apply(lambda x: 1 if x == 2 or x == 4 or x == 3 else 0)  #母亲是否全职务农\n",
    "\n",
    "father['a89f'] = father['a89f'].apply(lambda x: 0 if x == 1 or x == 1 else 1)  #父亲是否有专业技术职称\n",
    "mother['a90f'] = mother['a90f'].apply(lambda x: 0 if x == 1 or x == 1 else 1)  #母亲是否有专业技术职称\n",
    "\n",
    "respondent['a18'] = respondent['a18'].apply(lambda x: 1 if x == 1 else 0)  #被调查者是否是农业户口"
   ],
   "metadata": {
    "collapsed": false
   }
  },
  {
   "cell_type": "code",
   "execution_count": 36,
   "metadata": {
    "collapsed": false
   },
   "outputs": [
    {
     "data": {
      "text/plain": "(       小学及以下   初中   高中  大学及以上\n 小学及以下   3722  169   58    396\n 初中      2568  445  190    308\n 高中      1235  515  241    244\n 大学及以上    779  667  593    452,\n        小学及以下   初中   高中  大学及以上\n 小学及以下   4064   60   16    205\n 初中      3057  244   49    161\n 高中      1618  335  141    141\n 大学及以上   1137  591  472    291,\n 12582)"
     },
     "execution_count": 36,
     "metadata": {},
     "output_type": "execute_result"
    }
   ],
   "source": [
    "#考虑到时代因素,我们将父母辈的技校计入了大学学历\n",
    "data = {\n",
    "\t'小学及以下': [0, 0, 0, 0],\n",
    "\t'初中': [0, 0, 0, 0],\n",
    "\t'高中': [0, 0, 0, 0],\n",
    "\t'大学及以上': [0, 0, 0, 0]\n",
    "}\n",
    "index = ['小学及以下', '初中', '高中', '大学及以上']\n",
    "father_edu = pd.DataFrame(data=data, index=index)\n",
    "father_cnt = []\n",
    "mother_edu = pd.DataFrame(data=data, index=index)\n",
    "mother_cnt= []\n",
    "father_mother = pd.DataFrame(data=data, index=index)\n",
    "for i in range(len(df)):\n",
    "\tif respondent['a7a'][i] == np.nan or father['a89b'][i] == np.nan or mother['a90b'][i] == np.nan:\n",
    "\t\tcontinue\n",
    "\tif respondent['a7a'][i] <= 3:\n",
    "\n",
    "\t\tif father['a89b'][i] <= 3:\n",
    "\t\t\tfather_edu.at['小学及以下', '小学及以下'] += 1\n",
    "\t\telif father['a89b'][i] == 4:\n",
    "\t\t\tfather_edu.at['小学及以下', '初中'] += 1\n",
    "\t\telif father['a89b'][i] <= 7:\n",
    "\t\t\tfather_edu.at['小学及以下', '高中'] += 1\n",
    "\t\telse:\n",
    "\t\t\tfather_edu.at['小学及以下', '大学及以上'] += 1\n",
    "\n",
    "\t\tif mother['a90b'][i] <= 3:\n",
    "\t\t\tmother_edu.at['小学及以下', '小学及以下'] += 1\n",
    "\t\telif mother['a90b'][i] == 4:\n",
    "\t\t\tmother_edu.at['小学及以下', '初中'] += 1\n",
    "\t\telif mother['a90b'][i] <= 7:\n",
    "\t\t\tmother_edu.at['小学及以下', '高中'] += 1\n",
    "\t\telse:\n",
    "\t\t\tmother_edu.at['小学及以下', '大学及以上'] += 1\n",
    "\n",
    "\telif respondent['a7a'][i] == 4:\n",
    "\n",
    "\t\tif father['a89b'][i] <= 3:\n",
    "\t\t\tfather_edu.at['初中', '小学及以下'] += 1\n",
    "\t\telif father['a89b'][i] == 4:\n",
    "\t\t\tfather_edu.at['初中', '初中'] += 1\n",
    "\t\telif father['a89b'][i] <= 7:\n",
    "\t\t\tfather_edu.at['初中', '高中'] += 1\n",
    "\t\telse:\n",
    "\t\t\tfather_edu.at['初中', '大学及以上'] += 1\n",
    "\n",
    "\t\tif mother['a90b'][i] <= 3:\n",
    "\t\t\tmother_edu.at['初中', '小学及以下'] += 1\n",
    "\t\telif mother['a90b'][i] == 4:\n",
    "\t\t\tmother_edu.at['初中', '初中'] += 1\n",
    "\t\telif mother['a90b'][i] <= 7:\n",
    "\t\t\tmother_edu.at['初中', '高中'] += 1\n",
    "\t\telse:\n",
    "\t\t\tmother_edu.at['初中', '大学及以上'] += 1\n",
    "\telif respondent['a7a'][i] <= 8:\n",
    "\n",
    "\t\tif father['a89b'][i] <= 3:\n",
    "\t\t\tfather_edu.at['高中', '小学及以下'] += 1\n",
    "\t\telif father['a89b'][i] == 4:\n",
    "\t\t\tfather_edu.at['高中', '初中'] += 1\n",
    "\t\telif father['a89b'][i] <= 7:\n",
    "\t\t\tfather_edu.at['高中', '高中'] += 1\n",
    "\t\telse:\n",
    "\t\t\tfather_edu.at['高中', '大学及以上'] += 1\n",
    "\n",
    "\t\tif mother['a90b'][i] <= 3:\n",
    "\t\t\tmother_edu.at['高中', '小学及以下'] += 1\n",
    "\t\telif mother['a90b'][i] == 4:\n",
    "\t\t\tmother_edu.at['高中', '初中'] += 1\n",
    "\t\telif mother['a90b'][i] <= 7:\n",
    "\t\t\tmother_edu.at['高中', '高中'] += 1\n",
    "\t\telse:\n",
    "\t\t\tmother_edu.at['高中', '大学及以上'] += 1\n",
    "\n",
    "\telse:\n",
    "\t\tif father['a89b'][i] <= 3:\n",
    "\t\t\tfather_edu.at['大学及以上', '小学及以下'] += 1\n",
    "\t\telif father['a89b'][i] == 4:\n",
    "\t\t\tfather_edu.at['大学及以上', '初中'] += 1\n",
    "\t\telif father['a89b'][i] <= 7:\n",
    "\t\t\tfather_edu.at['大学及以上', '高中'] += 1\n",
    "\t\telse:\n",
    "\t\t\tfather_edu.at['大学及以上', '大学及以上'] += 1\n",
    "\n",
    "\t\tif mother['a90b'][i] <= 3:\n",
    "\t\t\tmother_edu.at['大学及以上', '小学及以下'] += 1\n",
    "\t\telif mother['a90b'][i] == 4:\n",
    "\t\t\tmother_edu.at['大学及以上', '初中'] += 1\n",
    "\t\telif mother['a90b'][i] <= 7:\n",
    "\t\t\tmother_edu.at['大学及以上', '高中'] += 1\n",
    "\t\telse:\n",
    "\t\t\tmother_edu.at['大学及以上', '大学及以上'] += 1\n",
    "for i in range(len(df)):\n",
    "\tif df['a89b'][i]<=3:\n",
    "\t\tfather_cnt.append(1)\n",
    "\telif df['a89b'][i]==4:\n",
    "\t\tfather_cnt.append(2)\n",
    "\telif df['a89b'][i]<=7:\n",
    "\t\tfather_cnt.append(3)\n",
    "\telse:\n",
    "\t\tfather_cnt.append(4)\n",
    "\n",
    "\n",
    "\tif df['a90b'][i]<=3:\n",
    "\t\tmother_cnt.append(1)\n",
    "\telif df['a90b'][i]==4:\n",
    "\t\tmother_cnt.append(2)\n",
    "\telif df['a90b'][i]<=7:\n",
    "\t\tmother_cnt.append(3)\n",
    "\telse:\n",
    "\t\tmother_cnt.append(4)\n",
    "father_edu, mother_edu, len(df)"
   ]
  },
  {
   "cell_type": "code",
   "execution_count": 38,
   "metadata": {
    "collapsed": false
   },
   "outputs": [
    {
     "data": {
      "text/plain": "(           小学及以下         初中         高中      大学及以上\n 小学及以下  44.821773   9.409800   5.360444  28.285714\n 初中     30.924855  24.777283  17.560074  22.000000\n 高中     14.872351  28.674833  22.273567  17.428571\n 大学及以上   9.381021  37.138085  54.805915  32.285714,\n            小学及以下         初中         高中      大学及以上\n 小学及以下  41.150263   4.878049   2.359882  25.689223\n 初中     30.953827  19.837398   7.227139  20.175439\n 高中     16.383151  27.235772  20.796460  17.669173\n 大学及以上  11.512758  48.048780  69.616519  36.466165)"
     },
     "execution_count": 38,
     "metadata": {},
     "output_type": "execute_result"
    }
   ],
   "source": [
    "father_sum = father_edu.sum(axis=0)\n",
    "mother_sum = mother_edu.sum(axis=0)\n",
    "father_percent = father_edu.div(father_sum)*100\n",
    "mother_percent = mother_edu.div(mother_sum)*100\n",
    "father_percent, mother_percent"
   ]
  },
  {
   "cell_type": "code",
   "execution_count": 37,
   "outputs": [
    {
     "ename": "ValueError",
     "evalue": "operands could not be broadcast together with shapes (25164,) (12582,) ",
     "output_type": "error",
     "traceback": [
      "\u001B[1;31m---------------------------------------------------------------------------\u001B[0m",
      "\u001B[1;31mValueError\u001B[0m                                Traceback (most recent call last)",
      "Cell \u001B[1;32mIn[37], line 17\u001B[0m\n\u001B[0;32m     15\u001B[0m X \u001B[38;5;241m=\u001B[39m [father_cnt, mother_cnt]\n\u001B[0;32m     16\u001B[0m p0 \u001B[38;5;241m=\u001B[39m [\u001B[38;5;241m1\u001B[39m, \u001B[38;5;241m1\u001B[39m, \u001B[38;5;241m1\u001B[39m]\n\u001B[1;32m---> 17\u001B[0m Para \u001B[38;5;241m=\u001B[39m \u001B[43mleastsq\u001B[49m\u001B[43m(\u001B[49m\u001B[43merr\u001B[49m\u001B[43m,\u001B[49m\u001B[43m \u001B[49m\u001B[43mp0\u001B[49m\u001B[43m,\u001B[49m\u001B[43m \u001B[49m\u001B[43margs\u001B[49m\u001B[38;5;241;43m=\u001B[39;49m\u001B[43m(\u001B[49m\u001B[43mX\u001B[49m\u001B[43m,\u001B[49m\u001B[43m \u001B[49m\u001B[43mY\u001B[49m\u001B[43m)\u001B[49m\u001B[43m)\u001B[49m\n\u001B[0;32m     18\u001B[0m y_fitted \u001B[38;5;241m=\u001B[39m fun(Para[\u001B[38;5;241m0\u001B[39m], X)\n\u001B[0;32m     20\u001B[0m plt\u001B[38;5;241m.\u001B[39mfigure(figsize\u001B[38;5;241m=\u001B[39m(\u001B[38;5;241m8\u001B[39m, \u001B[38;5;241m6\u001B[39m))\n",
      "File \u001B[1;32m~\\AppData\\Local\\Packages\\PythonSoftwareFoundation.Python.3.9_qbz5n2kfra8p0\\LocalCache\\local-packages\\Python39\\site-packages\\scipy\\optimize\\_minpack_py.py:410\u001B[0m, in \u001B[0;36mleastsq\u001B[1;34m(func, x0, args, Dfun, full_output, col_deriv, ftol, xtol, gtol, maxfev, epsfcn, factor, diag)\u001B[0m\n\u001B[0;32m    408\u001B[0m \u001B[38;5;28;01mif\u001B[39;00m \u001B[38;5;129;01mnot\u001B[39;00m \u001B[38;5;28misinstance\u001B[39m(args, \u001B[38;5;28mtuple\u001B[39m):\n\u001B[0;32m    409\u001B[0m     args \u001B[38;5;241m=\u001B[39m (args,)\n\u001B[1;32m--> 410\u001B[0m shape, dtype \u001B[38;5;241m=\u001B[39m \u001B[43m_check_func\u001B[49m\u001B[43m(\u001B[49m\u001B[38;5;124;43m'\u001B[39;49m\u001B[38;5;124;43mleastsq\u001B[39;49m\u001B[38;5;124;43m'\u001B[39;49m\u001B[43m,\u001B[49m\u001B[43m \u001B[49m\u001B[38;5;124;43m'\u001B[39;49m\u001B[38;5;124;43mfunc\u001B[39;49m\u001B[38;5;124;43m'\u001B[39;49m\u001B[43m,\u001B[49m\u001B[43m \u001B[49m\u001B[43mfunc\u001B[49m\u001B[43m,\u001B[49m\u001B[43m \u001B[49m\u001B[43mx0\u001B[49m\u001B[43m,\u001B[49m\u001B[43m \u001B[49m\u001B[43margs\u001B[49m\u001B[43m,\u001B[49m\u001B[43m \u001B[49m\u001B[43mn\u001B[49m\u001B[43m)\u001B[49m\n\u001B[0;32m    411\u001B[0m m \u001B[38;5;241m=\u001B[39m shape[\u001B[38;5;241m0\u001B[39m]\n\u001B[0;32m    413\u001B[0m \u001B[38;5;28;01mif\u001B[39;00m n \u001B[38;5;241m>\u001B[39m m:\n",
      "File \u001B[1;32m~\\AppData\\Local\\Packages\\PythonSoftwareFoundation.Python.3.9_qbz5n2kfra8p0\\LocalCache\\local-packages\\Python39\\site-packages\\scipy\\optimize\\_minpack_py.py:24\u001B[0m, in \u001B[0;36m_check_func\u001B[1;34m(checker, argname, thefunc, x0, args, numinputs, output_shape)\u001B[0m\n\u001B[0;32m     22\u001B[0m \u001B[38;5;28;01mdef\u001B[39;00m \u001B[38;5;21m_check_func\u001B[39m(checker, argname, thefunc, x0, args, numinputs,\n\u001B[0;32m     23\u001B[0m                 output_shape\u001B[38;5;241m=\u001B[39m\u001B[38;5;28;01mNone\u001B[39;00m):\n\u001B[1;32m---> 24\u001B[0m     res \u001B[38;5;241m=\u001B[39m atleast_1d(\u001B[43mthefunc\u001B[49m\u001B[43m(\u001B[49m\u001B[38;5;241;43m*\u001B[39;49m\u001B[43m(\u001B[49m\u001B[43m(\u001B[49m\u001B[43mx0\u001B[49m\u001B[43m[\u001B[49m\u001B[43m:\u001B[49m\u001B[43mnuminputs\u001B[49m\u001B[43m]\u001B[49m\u001B[43m,\u001B[49m\u001B[43m)\u001B[49m\u001B[43m \u001B[49m\u001B[38;5;241;43m+\u001B[39;49m\u001B[43m \u001B[49m\u001B[43margs\u001B[49m\u001B[43m)\u001B[49m\u001B[43m)\u001B[49m)\n\u001B[0;32m     25\u001B[0m     \u001B[38;5;28;01mif\u001B[39;00m (output_shape \u001B[38;5;129;01mis\u001B[39;00m \u001B[38;5;129;01mnot\u001B[39;00m \u001B[38;5;28;01mNone\u001B[39;00m) \u001B[38;5;129;01mand\u001B[39;00m (shape(res) \u001B[38;5;241m!=\u001B[39m output_shape):\n\u001B[0;32m     26\u001B[0m         \u001B[38;5;28;01mif\u001B[39;00m (output_shape[\u001B[38;5;241m0\u001B[39m] \u001B[38;5;241m!=\u001B[39m \u001B[38;5;241m1\u001B[39m):\n",
      "Cell \u001B[1;32mIn[37], line 11\u001B[0m, in \u001B[0;36merr\u001B[1;34m(p, x, y)\u001B[0m\n\u001B[0;32m     10\u001B[0m \u001B[38;5;28;01mdef\u001B[39;00m \u001B[38;5;21merr\u001B[39m(p, x, y):\n\u001B[1;32m---> 11\u001B[0m \t\u001B[38;5;28;01mreturn\u001B[39;00m \u001B[43mfun\u001B[49m\u001B[43m(\u001B[49m\u001B[43mp\u001B[49m\u001B[43m,\u001B[49m\u001B[43m \u001B[49m\u001B[43mx\u001B[49m\u001B[43m)\u001B[49m\u001B[43m \u001B[49m\u001B[38;5;241;43m-\u001B[39;49m\u001B[43m \u001B[49m\u001B[43my\u001B[49m\n",
      "File \u001B[1;32m~\\AppData\\Local\\Packages\\PythonSoftwareFoundation.Python.3.9_qbz5n2kfra8p0\\LocalCache\\local-packages\\Python39\\site-packages\\pandas\\core\\generic.py:2101\u001B[0m, in \u001B[0;36mNDFrame.__array_ufunc__\u001B[1;34m(self, ufunc, method, *inputs, **kwargs)\u001B[0m\n\u001B[0;32m   2097\u001B[0m \u001B[38;5;129m@final\u001B[39m\n\u001B[0;32m   2098\u001B[0m \u001B[38;5;28;01mdef\u001B[39;00m \u001B[38;5;21m__array_ufunc__\u001B[39m(\n\u001B[0;32m   2099\u001B[0m     \u001B[38;5;28mself\u001B[39m, ufunc: np\u001B[38;5;241m.\u001B[39mufunc, method: \u001B[38;5;28mstr\u001B[39m, \u001B[38;5;241m*\u001B[39minputs: Any, \u001B[38;5;241m*\u001B[39m\u001B[38;5;241m*\u001B[39mkwargs: Any\n\u001B[0;32m   2100\u001B[0m ):\n\u001B[1;32m-> 2101\u001B[0m     \u001B[38;5;28;01mreturn\u001B[39;00m arraylike\u001B[38;5;241m.\u001B[39marray_ufunc(\u001B[38;5;28mself\u001B[39m, ufunc, method, \u001B[38;5;241m*\u001B[39minputs, \u001B[38;5;241m*\u001B[39m\u001B[38;5;241m*\u001B[39mkwargs)\n",
      "File \u001B[1;32m~\\AppData\\Local\\Packages\\PythonSoftwareFoundation.Python.3.9_qbz5n2kfra8p0\\LocalCache\\local-packages\\Python39\\site-packages\\pandas\\core\\arraylike.py:263\u001B[0m, in \u001B[0;36marray_ufunc\u001B[1;34m(self, ufunc, method, *inputs, **kwargs)\u001B[0m\n\u001B[0;32m    260\u001B[0m     \u001B[38;5;28;01mreturn\u001B[39;00m result\n\u001B[0;32m    262\u001B[0m \u001B[38;5;66;03m# for binary ops, use our custom dunder methods\u001B[39;00m\n\u001B[1;32m--> 263\u001B[0m result \u001B[38;5;241m=\u001B[39m maybe_dispatch_ufunc_to_dunder_op(\u001B[38;5;28mself\u001B[39m, ufunc, method, \u001B[38;5;241m*\u001B[39minputs, \u001B[38;5;241m*\u001B[39m\u001B[38;5;241m*\u001B[39mkwargs)\n\u001B[0;32m    264\u001B[0m \u001B[38;5;28;01mif\u001B[39;00m result \u001B[38;5;129;01mis\u001B[39;00m \u001B[38;5;129;01mnot\u001B[39;00m \u001B[38;5;28mNotImplemented\u001B[39m:\n\u001B[0;32m    265\u001B[0m     \u001B[38;5;28;01mreturn\u001B[39;00m result\n",
      "File \u001B[1;32m~\\AppData\\Local\\Packages\\PythonSoftwareFoundation.Python.3.9_qbz5n2kfra8p0\\LocalCache\\local-packages\\Python39\\site-packages\\pandas\\_libs\\ops_dispatch.pyx:113\u001B[0m, in \u001B[0;36mpandas._libs.ops_dispatch.maybe_dispatch_ufunc_to_dunder_op\u001B[1;34m()\u001B[0m\n",
      "File \u001B[1;32m~\\AppData\\Local\\Packages\\PythonSoftwareFoundation.Python.3.9_qbz5n2kfra8p0\\LocalCache\\local-packages\\Python39\\site-packages\\pandas\\core\\ops\\common.py:70\u001B[0m, in \u001B[0;36m_unpack_zerodim_and_defer.<locals>.new_method\u001B[1;34m(self, other)\u001B[0m\n\u001B[0;32m     66\u001B[0m             \u001B[38;5;28;01mreturn\u001B[39;00m \u001B[38;5;28mNotImplemented\u001B[39m\n\u001B[0;32m     68\u001B[0m other \u001B[38;5;241m=\u001B[39m item_from_zerodim(other)\n\u001B[1;32m---> 70\u001B[0m \u001B[38;5;28;01mreturn\u001B[39;00m \u001B[43mmethod\u001B[49m\u001B[43m(\u001B[49m\u001B[38;5;28;43mself\u001B[39;49m\u001B[43m,\u001B[49m\u001B[43m \u001B[49m\u001B[43mother\u001B[49m\u001B[43m)\u001B[49m\n",
      "File \u001B[1;32m~\\AppData\\Local\\Packages\\PythonSoftwareFoundation.Python.3.9_qbz5n2kfra8p0\\LocalCache\\local-packages\\Python39\\site-packages\\pandas\\core\\arraylike.py:112\u001B[0m, in \u001B[0;36mOpsMixin.__rsub__\u001B[1;34m(self, other)\u001B[0m\n\u001B[0;32m    110\u001B[0m \u001B[38;5;129m@unpack_zerodim_and_defer\u001B[39m(\u001B[38;5;124m\"\u001B[39m\u001B[38;5;124m__rsub__\u001B[39m\u001B[38;5;124m\"\u001B[39m)\n\u001B[0;32m    111\u001B[0m \u001B[38;5;28;01mdef\u001B[39;00m \u001B[38;5;21m__rsub__\u001B[39m(\u001B[38;5;28mself\u001B[39m, other):\n\u001B[1;32m--> 112\u001B[0m     \u001B[38;5;28;01mreturn\u001B[39;00m \u001B[38;5;28;43mself\u001B[39;49m\u001B[38;5;241;43m.\u001B[39;49m\u001B[43m_arith_method\u001B[49m\u001B[43m(\u001B[49m\u001B[43mother\u001B[49m\u001B[43m,\u001B[49m\u001B[43m \u001B[49m\u001B[43mroperator\u001B[49m\u001B[38;5;241;43m.\u001B[39;49m\u001B[43mrsub\u001B[49m\u001B[43m)\u001B[49m\n",
      "File \u001B[1;32m~\\AppData\\Local\\Packages\\PythonSoftwareFoundation.Python.3.9_qbz5n2kfra8p0\\LocalCache\\local-packages\\Python39\\site-packages\\pandas\\core\\series.py:5639\u001B[0m, in \u001B[0;36mSeries._arith_method\u001B[1;34m(self, other, op)\u001B[0m\n\u001B[0;32m   5637\u001B[0m \u001B[38;5;28;01mdef\u001B[39;00m \u001B[38;5;21m_arith_method\u001B[39m(\u001B[38;5;28mself\u001B[39m, other, op):\n\u001B[0;32m   5638\u001B[0m     \u001B[38;5;28mself\u001B[39m, other \u001B[38;5;241m=\u001B[39m ops\u001B[38;5;241m.\u001B[39malign_method_SERIES(\u001B[38;5;28mself\u001B[39m, other)\n\u001B[1;32m-> 5639\u001B[0m     \u001B[38;5;28;01mreturn\u001B[39;00m \u001B[43mbase\u001B[49m\u001B[38;5;241;43m.\u001B[39;49m\u001B[43mIndexOpsMixin\u001B[49m\u001B[38;5;241;43m.\u001B[39;49m\u001B[43m_arith_method\u001B[49m\u001B[43m(\u001B[49m\u001B[38;5;28;43mself\u001B[39;49m\u001B[43m,\u001B[49m\u001B[43m \u001B[49m\u001B[43mother\u001B[49m\u001B[43m,\u001B[49m\u001B[43m \u001B[49m\u001B[43mop\u001B[49m\u001B[43m)\u001B[49m\n",
      "File \u001B[1;32m~\\AppData\\Local\\Packages\\PythonSoftwareFoundation.Python.3.9_qbz5n2kfra8p0\\LocalCache\\local-packages\\Python39\\site-packages\\pandas\\core\\base.py:1295\u001B[0m, in \u001B[0;36mIndexOpsMixin._arith_method\u001B[1;34m(self, other, op)\u001B[0m\n\u001B[0;32m   1292\u001B[0m rvalues \u001B[38;5;241m=\u001B[39m ensure_wrapped_if_datetimelike(rvalues)\n\u001B[0;32m   1294\u001B[0m \u001B[38;5;28;01mwith\u001B[39;00m np\u001B[38;5;241m.\u001B[39merrstate(\u001B[38;5;28mall\u001B[39m\u001B[38;5;241m=\u001B[39m\u001B[38;5;124m\"\u001B[39m\u001B[38;5;124mignore\u001B[39m\u001B[38;5;124m\"\u001B[39m):\n\u001B[1;32m-> 1295\u001B[0m     result \u001B[38;5;241m=\u001B[39m \u001B[43mops\u001B[49m\u001B[38;5;241;43m.\u001B[39;49m\u001B[43marithmetic_op\u001B[49m\u001B[43m(\u001B[49m\u001B[43mlvalues\u001B[49m\u001B[43m,\u001B[49m\u001B[43m \u001B[49m\u001B[43mrvalues\u001B[49m\u001B[43m,\u001B[49m\u001B[43m \u001B[49m\u001B[43mop\u001B[49m\u001B[43m)\u001B[49m\n\u001B[0;32m   1297\u001B[0m \u001B[38;5;28;01mreturn\u001B[39;00m \u001B[38;5;28mself\u001B[39m\u001B[38;5;241m.\u001B[39m_construct_result(result, name\u001B[38;5;241m=\u001B[39mres_name)\n",
      "File \u001B[1;32m~\\AppData\\Local\\Packages\\PythonSoftwareFoundation.Python.3.9_qbz5n2kfra8p0\\LocalCache\\local-packages\\Python39\\site-packages\\pandas\\core\\ops\\array_ops.py:222\u001B[0m, in \u001B[0;36marithmetic_op\u001B[1;34m(left, right, op)\u001B[0m\n\u001B[0;32m    217\u001B[0m \u001B[38;5;28;01melse\u001B[39;00m:\n\u001B[0;32m    218\u001B[0m     \u001B[38;5;66;03m# TODO we should handle EAs consistently and move this check before the if/else\u001B[39;00m\n\u001B[0;32m    219\u001B[0m     \u001B[38;5;66;03m# (https://github.com/pandas-dev/pandas/issues/41165)\u001B[39;00m\n\u001B[0;32m    220\u001B[0m     _bool_arith_check(op, left, right)\n\u001B[1;32m--> 222\u001B[0m     res_values \u001B[38;5;241m=\u001B[39m \u001B[43m_na_arithmetic_op\u001B[49m\u001B[43m(\u001B[49m\u001B[43mleft\u001B[49m\u001B[43m,\u001B[49m\u001B[43m \u001B[49m\u001B[43mright\u001B[49m\u001B[43m,\u001B[49m\u001B[43m \u001B[49m\u001B[43mop\u001B[49m\u001B[43m)\u001B[49m\n\u001B[0;32m    224\u001B[0m \u001B[38;5;28;01mreturn\u001B[39;00m res_values\n",
      "File \u001B[1;32m~\\AppData\\Local\\Packages\\PythonSoftwareFoundation.Python.3.9_qbz5n2kfra8p0\\LocalCache\\local-packages\\Python39\\site-packages\\pandas\\core\\ops\\array_ops.py:163\u001B[0m, in \u001B[0;36m_na_arithmetic_op\u001B[1;34m(left, right, op, is_cmp)\u001B[0m\n\u001B[0;32m    160\u001B[0m     func \u001B[38;5;241m=\u001B[39m partial(expressions\u001B[38;5;241m.\u001B[39mevaluate, op)\n\u001B[0;32m    162\u001B[0m \u001B[38;5;28;01mtry\u001B[39;00m:\n\u001B[1;32m--> 163\u001B[0m     result \u001B[38;5;241m=\u001B[39m \u001B[43mfunc\u001B[49m\u001B[43m(\u001B[49m\u001B[43mleft\u001B[49m\u001B[43m,\u001B[49m\u001B[43m \u001B[49m\u001B[43mright\u001B[49m\u001B[43m)\u001B[49m\n\u001B[0;32m    164\u001B[0m \u001B[38;5;28;01mexcept\u001B[39;00m \u001B[38;5;167;01mTypeError\u001B[39;00m:\n\u001B[0;32m    165\u001B[0m     \u001B[38;5;28;01mif\u001B[39;00m \u001B[38;5;129;01mnot\u001B[39;00m is_cmp \u001B[38;5;129;01mand\u001B[39;00m (is_object_dtype(left\u001B[38;5;241m.\u001B[39mdtype) \u001B[38;5;129;01mor\u001B[39;00m is_object_dtype(right)):\n\u001B[0;32m    166\u001B[0m         \u001B[38;5;66;03m# For object dtype, fallback to a masked operation (only operating\u001B[39;00m\n\u001B[0;32m    167\u001B[0m         \u001B[38;5;66;03m#  on the non-missing values)\u001B[39;00m\n\u001B[0;32m    168\u001B[0m         \u001B[38;5;66;03m# Don't do this for comparisons, as that will handle complex numbers\u001B[39;00m\n\u001B[0;32m    169\u001B[0m         \u001B[38;5;66;03m#  incorrectly, see GH#32047\u001B[39;00m\n",
      "File \u001B[1;32m~\\AppData\\Local\\Packages\\PythonSoftwareFoundation.Python.3.9_qbz5n2kfra8p0\\LocalCache\\local-packages\\Python39\\site-packages\\pandas\\core\\computation\\expressions.py:239\u001B[0m, in \u001B[0;36mevaluate\u001B[1;34m(op, a, b, use_numexpr)\u001B[0m\n\u001B[0;32m    236\u001B[0m \u001B[38;5;28;01mif\u001B[39;00m op_str \u001B[38;5;129;01mis\u001B[39;00m \u001B[38;5;129;01mnot\u001B[39;00m \u001B[38;5;28;01mNone\u001B[39;00m:\n\u001B[0;32m    237\u001B[0m     \u001B[38;5;28;01mif\u001B[39;00m use_numexpr:\n\u001B[0;32m    238\u001B[0m         \u001B[38;5;66;03m# error: \"None\" not callable\u001B[39;00m\n\u001B[1;32m--> 239\u001B[0m         \u001B[38;5;28;01mreturn\u001B[39;00m \u001B[43m_evaluate\u001B[49m\u001B[43m(\u001B[49m\u001B[43mop\u001B[49m\u001B[43m,\u001B[49m\u001B[43m \u001B[49m\u001B[43mop_str\u001B[49m\u001B[43m,\u001B[49m\u001B[43m \u001B[49m\u001B[43ma\u001B[49m\u001B[43m,\u001B[49m\u001B[43m \u001B[49m\u001B[43mb\u001B[49m\u001B[43m)\u001B[49m  \u001B[38;5;66;03m# type: ignore[misc]\u001B[39;00m\n\u001B[0;32m    240\u001B[0m \u001B[38;5;28;01mreturn\u001B[39;00m _evaluate_standard(op, op_str, a, b)\n",
      "File \u001B[1;32m~\\AppData\\Local\\Packages\\PythonSoftwareFoundation.Python.3.9_qbz5n2kfra8p0\\LocalCache\\local-packages\\Python39\\site-packages\\pandas\\core\\computation\\expressions.py:69\u001B[0m, in \u001B[0;36m_evaluate_standard\u001B[1;34m(op, op_str, a, b)\u001B[0m\n\u001B[0;32m     67\u001B[0m \u001B[38;5;28;01mif\u001B[39;00m _TEST_MODE:\n\u001B[0;32m     68\u001B[0m     _store_test_result(\u001B[38;5;28;01mFalse\u001B[39;00m)\n\u001B[1;32m---> 69\u001B[0m \u001B[38;5;28;01mreturn\u001B[39;00m \u001B[43mop\u001B[49m\u001B[43m(\u001B[49m\u001B[43ma\u001B[49m\u001B[43m,\u001B[49m\u001B[43m \u001B[49m\u001B[43mb\u001B[49m\u001B[43m)\u001B[49m\n",
      "File \u001B[1;32m~\\AppData\\Local\\Packages\\PythonSoftwareFoundation.Python.3.9_qbz5n2kfra8p0\\LocalCache\\local-packages\\Python39\\site-packages\\pandas\\core\\roperator.py:13\u001B[0m, in \u001B[0;36mrsub\u001B[1;34m(left, right)\u001B[0m\n\u001B[0;32m     12\u001B[0m \u001B[38;5;28;01mdef\u001B[39;00m \u001B[38;5;21mrsub\u001B[39m(left, right):\n\u001B[1;32m---> 13\u001B[0m     \u001B[38;5;28;01mreturn\u001B[39;00m \u001B[43mright\u001B[49m\u001B[43m \u001B[49m\u001B[38;5;241;43m-\u001B[39;49m\u001B[43m \u001B[49m\u001B[43mleft\u001B[49m\n",
      "\u001B[1;31mValueError\u001B[0m: operands could not be broadcast together with shapes (25164,) (12582,) "
     ]
    }
   ],
   "source": [
    "from scipy.optimize import leastsq\n",
    "\n",
    "\n",
    "def fun(p, x):\n",
    "\tfa, mo = x\n",
    "\ta, b, c = p\n",
    "\treturn a * fa + b * mo + c\n",
    "\n",
    "\n",
    "def err(p, x, y):\n",
    "\treturn fun(p, x) - y\n",
    "\n",
    "\n",
    "Y = df['a7a']\n",
    "X = [father_cnt, mother_cnt]\n",
    "p0 = [1, 1, 1]\n",
    "Para = leastsq(err, p0, args=(X, Y))\n",
    "y_fitted = fun(Para[0], X)\n",
    "\n",
    "plt.figure(figsize=(8, 6))\n",
    "plt.scatter(X, y_fitted, marker='o', color='blue', label='Fitted')\n",
    "plt.scatter(X, Y, marker='x', color='red', label='True')\n",
    "plt.legend(loc=2)\n",
    "plt.show()"
   ],
   "metadata": {
    "collapsed": false
   }
  },
  {
   "cell_type": "code",
   "execution_count": null,
   "outputs": [],
   "source": [],
   "metadata": {
    "collapsed": false
   }
  }
 ],
 "metadata": {
  "kernelspec": {
   "display_name": "Python 3.9.13 64-bit (microsoft store)",
   "language": "python",
   "name": "python3"
  },
  "language_info": {
   "codemirror_mode": {
    "name": "ipython",
    "version": 2
   },
   "file_extension": ".py",
   "mimetype": "text/x-python",
   "name": "python",
   "nbconvert_exporter": "python",
   "pygments_lexer": "ipython2",
   "version": "3.9.13"
  },
  "vscode": {
   "interpreter": {
    "hash": "269e12486f479ab2021ef67afb6ec518cef4f994b3142ffabf4dffded0fb46d1"
   }
  }
 },
 "nbformat": 4,
 "nbformat_minor": 0
}
