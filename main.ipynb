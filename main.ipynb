{
 "cells": [
  {
   "cell_type": "code",
   "execution_count": 2,
   "metadata": {
    "collapsed": true
   },
   "outputs": [],
   "source": [
    "import pandas as pd\n",
    "import numpy as np\n",
    "import matplotlib.pyplot as plt"
   ]
  },
  {
   "cell_type": "code",
   "execution_count": 3,
   "outputs": [
    {
     "data": {
      "text/plain": "       id provinces community_i  type                  A00  A1 A011601  \\\n0  2504.0       北京市     1101021   1.0  2021-07-11 15:03:00   1       2   \n1  1187.0       北京市     1101022   1.0  2021-07-06 11:14:00   1       1   \n2  4315.0       北京市     1101011   1.0  2021-07-20 16:05:00   1       1   \n3  6836.0       北京市     1101154   1.0  2021-07-31 15:18:00   7       3   \n4  4726.0       北京市     1101064   1.0  2021-07-23 09:22:00   4       1   \n\n  A011602 A011603 A011604  ... P22_b P22_c isco08_a57e isco08_a59d  \\\n0       .       .       .  ...     4     1        2342        5322   \n1       .       .       .  ...     .     .        7230           .   \n2       .       .       .  ...     .     .           0           .   \n3       3       5       5  ...     .     .        7230        2523   \n4       2       6       7  ...     1     2        7318           .   \n\n  isco08_a60d isco08_sp isco08_f isco08_m    weight weight_raking  \n0           .         .     3341     9622  0.757877      0.265570  \n1        1321         .     1112        .  0.416885      0.073736  \n2        2330         .     7521     6100  0.299796      0.023887  \n3           .      4110     8300     2341  0.781762      0.274609  \n4        4110         .     7230        .  0.616473      0.215613  \n\n[5 rows x 700 columns]",
      "text/html": "<div>\n<style scoped>\n    .dataframe tbody tr th:only-of-type {\n        vertical-align: middle;\n    }\n\n    .dataframe tbody tr th {\n        vertical-align: top;\n    }\n\n    .dataframe thead th {\n        text-align: right;\n    }\n</style>\n<table border=\"1\" class=\"dataframe\">\n  <thead>\n    <tr style=\"text-align: right;\">\n      <th></th>\n      <th>id</th>\n      <th>provinces</th>\n      <th>community_i</th>\n      <th>type</th>\n      <th>A00</th>\n      <th>A1</th>\n      <th>A011601</th>\n      <th>A011602</th>\n      <th>A011603</th>\n      <th>A011604</th>\n      <th>...</th>\n      <th>P22_b</th>\n      <th>P22_c</th>\n      <th>isco08_a57e</th>\n      <th>isco08_a59d</th>\n      <th>isco08_a60d</th>\n      <th>isco08_sp</th>\n      <th>isco08_f</th>\n      <th>isco08_m</th>\n      <th>weight</th>\n      <th>weight_raking</th>\n    </tr>\n  </thead>\n  <tbody>\n    <tr>\n      <th>0</th>\n      <td>2504.0</td>\n      <td>北京市</td>\n      <td>1101021</td>\n      <td>1.0</td>\n      <td>2021-07-11 15:03:00</td>\n      <td>1</td>\n      <td>2</td>\n      <td>.</td>\n      <td>.</td>\n      <td>.</td>\n      <td>...</td>\n      <td>4</td>\n      <td>1</td>\n      <td>2342</td>\n      <td>5322</td>\n      <td>.</td>\n      <td>.</td>\n      <td>3341</td>\n      <td>9622</td>\n      <td>0.757877</td>\n      <td>0.265570</td>\n    </tr>\n    <tr>\n      <th>1</th>\n      <td>1187.0</td>\n      <td>北京市</td>\n      <td>1101022</td>\n      <td>1.0</td>\n      <td>2021-07-06 11:14:00</td>\n      <td>1</td>\n      <td>1</td>\n      <td>.</td>\n      <td>.</td>\n      <td>.</td>\n      <td>...</td>\n      <td>.</td>\n      <td>.</td>\n      <td>7230</td>\n      <td>.</td>\n      <td>1321</td>\n      <td>.</td>\n      <td>1112</td>\n      <td>.</td>\n      <td>0.416885</td>\n      <td>0.073736</td>\n    </tr>\n    <tr>\n      <th>2</th>\n      <td>4315.0</td>\n      <td>北京市</td>\n      <td>1101011</td>\n      <td>1.0</td>\n      <td>2021-07-20 16:05:00</td>\n      <td>1</td>\n      <td>1</td>\n      <td>.</td>\n      <td>.</td>\n      <td>.</td>\n      <td>...</td>\n      <td>.</td>\n      <td>.</td>\n      <td>0</td>\n      <td>.</td>\n      <td>2330</td>\n      <td>.</td>\n      <td>7521</td>\n      <td>6100</td>\n      <td>0.299796</td>\n      <td>0.023887</td>\n    </tr>\n    <tr>\n      <th>3</th>\n      <td>6836.0</td>\n      <td>北京市</td>\n      <td>1101154</td>\n      <td>1.0</td>\n      <td>2021-07-31 15:18:00</td>\n      <td>7</td>\n      <td>3</td>\n      <td>3</td>\n      <td>5</td>\n      <td>5</td>\n      <td>...</td>\n      <td>.</td>\n      <td>.</td>\n      <td>7230</td>\n      <td>2523</td>\n      <td>.</td>\n      <td>4110</td>\n      <td>8300</td>\n      <td>2341</td>\n      <td>0.781762</td>\n      <td>0.274609</td>\n    </tr>\n    <tr>\n      <th>4</th>\n      <td>4726.0</td>\n      <td>北京市</td>\n      <td>1101064</td>\n      <td>1.0</td>\n      <td>2021-07-23 09:22:00</td>\n      <td>4</td>\n      <td>1</td>\n      <td>2</td>\n      <td>6</td>\n      <td>7</td>\n      <td>...</td>\n      <td>1</td>\n      <td>2</td>\n      <td>7318</td>\n      <td>.</td>\n      <td>4110</td>\n      <td>.</td>\n      <td>7230</td>\n      <td>.</td>\n      <td>0.616473</td>\n      <td>0.215613</td>\n    </tr>\n  </tbody>\n</table>\n<p>5 rows × 700 columns</p>\n</div>"
     },
     "execution_count": 3,
     "metadata": {},
     "output_type": "execute_result"
    }
   ],
   "source": [
    "df=pd.read_stata('./CGSS2021.dta',convert_categoricals=False, convert_missing=True)\n",
    "df.head()"
   ],
   "metadata": {
    "collapsed": false
   }
  },
  {
   "cell_type": "code",
   "execution_count": 7,
   "outputs": [
    {
     "data": {
      "text/plain": "  A7a  A2  A3_1  A10  A18  A43_d       A8a  A58\n0   7   2  1967    1    2      4   96000.0    1\n1   7   2  1945    4    3      4   60000.0    5\n2  11   1  1949    4    3     98   96000.0    5\n3  11   1  1986    1    1      3  160000.0    1\n4   7   2  1958    1    2      2   48000.0    5",
      "text/html": "<div>\n<style scoped>\n    .dataframe tbody tr th:only-of-type {\n        vertical-align: middle;\n    }\n\n    .dataframe tbody tr th {\n        vertical-align: top;\n    }\n\n    .dataframe thead th {\n        text-align: right;\n    }\n</style>\n<table border=\"1\" class=\"dataframe\">\n  <thead>\n    <tr style=\"text-align: right;\">\n      <th></th>\n      <th>A7a</th>\n      <th>A2</th>\n      <th>A3_1</th>\n      <th>A10</th>\n      <th>A18</th>\n      <th>A43_d</th>\n      <th>A8a</th>\n      <th>A58</th>\n    </tr>\n  </thead>\n  <tbody>\n    <tr>\n      <th>0</th>\n      <td>7</td>\n      <td>2</td>\n      <td>1967</td>\n      <td>1</td>\n      <td>2</td>\n      <td>4</td>\n      <td>96000.0</td>\n      <td>1</td>\n    </tr>\n    <tr>\n      <th>1</th>\n      <td>7</td>\n      <td>2</td>\n      <td>1945</td>\n      <td>4</td>\n      <td>3</td>\n      <td>4</td>\n      <td>60000.0</td>\n      <td>5</td>\n    </tr>\n    <tr>\n      <th>2</th>\n      <td>11</td>\n      <td>1</td>\n      <td>1949</td>\n      <td>4</td>\n      <td>3</td>\n      <td>98</td>\n      <td>96000.0</td>\n      <td>5</td>\n    </tr>\n    <tr>\n      <th>3</th>\n      <td>11</td>\n      <td>1</td>\n      <td>1986</td>\n      <td>1</td>\n      <td>1</td>\n      <td>3</td>\n      <td>160000.0</td>\n      <td>1</td>\n    </tr>\n    <tr>\n      <th>4</th>\n      <td>7</td>\n      <td>2</td>\n      <td>1958</td>\n      <td>1</td>\n      <td>2</td>\n      <td>2</td>\n      <td>48000.0</td>\n      <td>5</td>\n    </tr>\n  </tbody>\n</table>\n</div>"
     },
     "execution_count": 7,
     "metadata": {},
     "output_type": "execute_result"
    }
   ],
   "source": [
    "#选择被调查者的受教育年限（A7a),性别（A2）,出生年份(A3_1)，政治面貌(A10),工作情况(A58),户籍(A18),14岁时家庭地位(A43_d),收入(A8a)\n",
    "respondent=df.loc[: , ['A7a','A2','A3_1','A10','A58','A18','A43_d','A8a']]\n",
    "respondent.head()"
   ],
   "metadata": {
    "collapsed": false
   }
  },
  {
   "cell_type": "code",
   "execution_count": 8,
   "outputs": [
    {
     "data": {
      "text/plain": "   A89b  A89c  A89d A89f  A89a\n0     2     4     1    4  1931\n1     3     4     1    4  1921\n2     1     1     3    0  9998\n3     4     4     1    0  1958\n4     2     1     1    0  1918",
      "text/html": "<div>\n<style scoped>\n    .dataframe tbody tr th:only-of-type {\n        vertical-align: middle;\n    }\n\n    .dataframe tbody tr th {\n        vertical-align: top;\n    }\n\n    .dataframe thead th {\n        text-align: right;\n    }\n</style>\n<table border=\"1\" class=\"dataframe\">\n  <thead>\n    <tr style=\"text-align: right;\">\n      <th></th>\n      <th>A89b</th>\n      <th>A89c</th>\n      <th>A89d</th>\n      <th>A89f</th>\n      <th>A89a</th>\n    </tr>\n  </thead>\n  <tbody>\n    <tr>\n      <th>0</th>\n      <td>2</td>\n      <td>4</td>\n      <td>1</td>\n      <td>4</td>\n      <td>1931</td>\n    </tr>\n    <tr>\n      <th>1</th>\n      <td>3</td>\n      <td>4</td>\n      <td>1</td>\n      <td>4</td>\n      <td>1921</td>\n    </tr>\n    <tr>\n      <th>2</th>\n      <td>1</td>\n      <td>1</td>\n      <td>3</td>\n      <td>0</td>\n      <td>9998</td>\n    </tr>\n    <tr>\n      <th>3</th>\n      <td>4</td>\n      <td>4</td>\n      <td>1</td>\n      <td>0</td>\n      <td>1958</td>\n    </tr>\n    <tr>\n      <th>4</th>\n      <td>2</td>\n      <td>1</td>\n      <td>1</td>\n      <td>0</td>\n      <td>1918</td>\n    </tr>\n  </tbody>\n</table>\n</div>"
     },
     "execution_count": 8,
     "metadata": {},
     "output_type": "execute_result"
    }
   ],
   "source": [
    "#选择被调查者父亲的受教育年限(A89b)，政治面貌(A89c)，工作情况(A89d)，专业职称(A89f)，年龄(A89a)\n",
    "father=df.loc[:,['A89b','A89c','A89d','A89f','A89a']]\n",
    "father.head()"
   ],
   "metadata": {
    "collapsed": false
   }
  },
  {
   "cell_type": "code",
   "execution_count": 10,
   "outputs": [
    {
     "data": {
      "text/plain": "   A90b  A90c  A90d A90f  A90a\n0     1     1     8    0  1932\n1     2     1    15    .  1926\n2     1     1     2    0  1913\n3     6     1     1    0  1958\n4     2     1    15    .  1921",
      "text/html": "<div>\n<style scoped>\n    .dataframe tbody tr th:only-of-type {\n        vertical-align: middle;\n    }\n\n    .dataframe tbody tr th {\n        vertical-align: top;\n    }\n\n    .dataframe thead th {\n        text-align: right;\n    }\n</style>\n<table border=\"1\" class=\"dataframe\">\n  <thead>\n    <tr style=\"text-align: right;\">\n      <th></th>\n      <th>A90b</th>\n      <th>A90c</th>\n      <th>A90d</th>\n      <th>A90f</th>\n      <th>A90a</th>\n    </tr>\n  </thead>\n  <tbody>\n    <tr>\n      <th>0</th>\n      <td>1</td>\n      <td>1</td>\n      <td>8</td>\n      <td>0</td>\n      <td>1932</td>\n    </tr>\n    <tr>\n      <th>1</th>\n      <td>2</td>\n      <td>1</td>\n      <td>15</td>\n      <td>.</td>\n      <td>1926</td>\n    </tr>\n    <tr>\n      <th>2</th>\n      <td>1</td>\n      <td>1</td>\n      <td>2</td>\n      <td>0</td>\n      <td>1913</td>\n    </tr>\n    <tr>\n      <th>3</th>\n      <td>6</td>\n      <td>1</td>\n      <td>1</td>\n      <td>0</td>\n      <td>1958</td>\n    </tr>\n    <tr>\n      <th>4</th>\n      <td>2</td>\n      <td>1</td>\n      <td>15</td>\n      <td>.</td>\n      <td>1921</td>\n    </tr>\n  </tbody>\n</table>\n</div>"
     },
     "execution_count": 10,
     "metadata": {},
     "output_type": "execute_result"
    }
   ],
   "source": [
    "#选择被调查者母亲的受教育年限(A90b)，政治面貌(A90c)，工作情况(A90d)，专业职称(A90f)，年龄(A90a)\n",
    "mother=df.loc[:,['A90b','A90c','A90d','A90f','A90a']]\n",
    "mother.head()"
   ],
   "metadata": {
    "collapsed": false
   }
  },
  {
   "cell_type": "code",
   "execution_count": null,
   "outputs": [],
   "source": [
    "respondent_edu=['小学及以下':0,'初中':0,'高中':0,'大学及以上':0]\n",
    "for i in range(len(df)):\n",
    "    if respondent[i]['A7a'] <=3:\n",
    "        respondent_edu['小学及以下']+=1\n",
    "    elif respondent[i]['A7a'] ==4:\n",
    "        respondent_edu['初中']+=1\n",
    "    elif respondent[i]['A7a'] <=9:\n",
    "        respondent_edu['高中']+=1\n",
    "    else:\n",
    "        respondent_edu['大学及以上']+=1\n",
    "father_edu=['小学及以下':0,'初中':0,'高中':0,'大学及以上':0]\n",
    "for i in range(len(df)):\n",
    "    if father[i]['A7a'] <=3:\n",
    "        father_edu['小学及以下']+=1\n",
    "    elif father[i]['A7a'] ==4:\n",
    "        father_edu['初中']+=1\n",
    "    elif father[i]['A7a'] <=9:\n",
    "        father_edu['高中']+=1\n",
    "    else:\n",
    "        father_edu['大学及以上']+=1\n",
    "mother_edu=['小学及以下':0,'初中':0,'高中':0,'大学及以上':0]\n",
    "for i in range(len(df)):\n",
    "    if mother[i]['A7a'] <=3:\n",
    "        mother_edu['小学及以下']+=1\n",
    "    elif mother[i]['A7a'] ==4:\n",
    "        mother_edu['初中']+=1\n",
    "    elif mother[i]['A7a'] <=9:\n",
    "        mother_edu['高中']+=1\n",
    "    else:\n",
    "        mother_edu['大学及以上']+=1\n"
   ],
   "metadata": {
    "collapsed": false
   }
  }
 ],
 "metadata": {
  "kernelspec": {
   "display_name": "Python 3",
   "language": "python",
   "name": "python3"
  },
  "language_info": {
   "codemirror_mode": {
    "name": "ipython",
    "version": 2
   },
   "file_extension": ".py",
   "mimetype": "text/x-python",
   "name": "python",
   "nbconvert_exporter": "python",
   "pygments_lexer": "ipython2",
   "version": "2.7.6"
  }
 },
 "nbformat": 4,
 "nbformat_minor": 0
}
