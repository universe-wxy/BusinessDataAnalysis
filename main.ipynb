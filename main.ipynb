{
 "cells": [
  {
   "cell_type": "code",
   "execution_count": 7,
   "metadata": {
    "collapsed": true
   },
   "outputs": [],
   "source": [
    "import pandas as pd\n",
    "import numpy as np\n",
    "import matplotlib.pyplot as plt"
   ]
  },
  {
   "cell_type": "code",
   "execution_count": 8,
   "metadata": {
    "collapsed": false
   },
   "outputs": [],
   "source": [
    "df = pd.read_stata('./CGSS2017.dta', convert_categoricals=False, convert_missing=False)"
   ]
  },
  {
   "cell_type": "code",
   "execution_count": 9,
   "metadata": {
    "collapsed": false
   },
   "outputs": [],
   "source": [
    "#选择被调查者的受教育年限（A7a),性别（A2）,出生年份(A3_1)，政治面貌(A10),工作情况(A58),户籍(A18),14岁时家庭地位(A43_d),收入(A8a)\n",
    "respondent = df.loc[:, ['a7a', 'a2', 'a31', 'a10', 'a58', 'a18', 'a43d', 'a8a']]"
   ]
  },
  {
   "cell_type": "code",
   "execution_count": 10,
   "metadata": {
    "collapsed": false
   },
   "outputs": [],
   "source": [
    "#选择被调查者父亲的受教育年限(A89b)，政治面貌(A89c)，工作情况(A89d)，专业职称(A89f)，年龄(A89a)\n",
    "father = df.loc[:, ['a89b', 'a89c', 'a89d', 'a89f', 'a89a']]"
   ]
  },
  {
   "cell_type": "code",
   "execution_count": 11,
   "metadata": {
    "collapsed": false
   },
   "outputs": [],
   "source": [
    "#选择被调查者母亲的受教育年限(A90b)，政治面貌(A90c)，工作情况(A90d)，专业职称(A90f)，年龄(A90a)\n",
    "mother = df.loc[:, ['a90b', 'a90c', 'a90d', 'a90f', 'a90a']]"
   ]
  },
  {
   "cell_type": "code",
   "execution_count": 13,
   "metadata": {
    "collapsed": false
   },
   "outputs": [
    {
     "data": {
      "text/plain": "(       小学及以下   初中   高中  大学及以上  总计\n 小学及以下   3722  169   58    396   0\n 初中      2568  445  197    301   0\n 高中      1235  515  248    237   0\n 大学及以上    779  667  602    443   0,\n        小学及以下   初中   高中  大学及以上  总计\n 小学及以下   4064   60   17    204   0\n 初中      3057  244   51    159   0\n 高中      1618  335  147    135   0\n 大学及以上   1137  591  483    280   0,\n 12582)"
     },
     "execution_count": 13,
     "metadata": {},
     "output_type": "execute_result"
    }
   ],
   "source": [
    "from pandas.io.stata import StataMissingValue\n",
    "\n",
    "data={\n",
    "\t  '小学及以下':[0,0,0,0],\n",
    "\t  '初中':[0,0,0,0],\n",
    "\t  '高中':[0,0,0,0],\n",
    "\t  '大学及以上':[0,0,0,0],\n",
    "\t  '总计':[0,0,0,0]\n",
    "\t  }\n",
    "index=['小学及以下','初中','高中','大学及以上']\n",
    "father_edu=pd.DataFrame(data=data,index=index)\n",
    "mother_edu=pd.DataFrame(data=data,index=index)\n",
    "for i in range(len(df)):\n",
    "\tif respondent['a7a'][i]==np.nan or father['a89b'][i]==np.nan or mother['a90b'][i]==np.nan:\n",
    "\t\tcontinue\n",
    "\tif respondent['a7a'][i]<=3:\n",
    "\n",
    "\t\tif father['a89b'][i]<=3:\n",
    "\t\t\tfather_edu.at['小学及以下','小学及以下']+=1\n",
    "\t\telif father['a89b'][i] == 4:\n",
    "\t\t\tfather_edu.at['小学及以下','初中']+=1\n",
    "\t\telif father['a89b'][i]<=8:\n",
    "\t\t\tfather_edu.at['小学及以下','高中']+=1\n",
    "\t\telse:\n",
    "\t\t\tfather_edu.at['小学及以下','大学及以上']+=1\n",
    "\n",
    "\t\tif mother['a90b'][i]<=3:\n",
    "\t\t\tmother_edu.at['小学及以下','小学及以下']+=1\n",
    "\t\telif mother['a90b'][i] == 4:\n",
    "\t\t\tmother_edu.at['小学及以下','初中']+=1\n",
    "\t\telif mother['a90b'][i]<=8:\n",
    "\t\t\tmother_edu.at['小学及以下','高中']+=1\n",
    "\t\telse:\n",
    "\t\t\tmother_edu.at['小学及以下','大学及以上']+=1\n",
    "\n",
    "\telif respondent['a7a'][i] ==4:\n",
    "\n",
    "\t\tif father['a89b'][i]<=3:\n",
    "\t\t\tfather_edu.at['初中','小学及以下']+=1\n",
    "\t\telif father['a89b'][i] == 4:\n",
    "\t\t\tfather_edu.at['初中','初中']+=1\n",
    "\t\telif father['a89b'][i]<=8:\n",
    "\t\t\tfather_edu.at['初中','高中']+=1\n",
    "\t\telse:\n",
    "\t\t\tfather_edu.at['初中','大学及以上']+=1\n",
    "\n",
    "\t\tif mother['a90b'][i]<=3:\n",
    "\t\t\tmother_edu.at['初中','小学及以下']+=1\n",
    "\t\telif mother['a90b'][i] == 4:\n",
    "\t\t\tmother_edu.at['初中','初中']+=1\n",
    "\t\telif mother['a90b'][i]<=8:\n",
    "\t\t\tmother_edu.at['初中','高中']+=1\n",
    "\t\telse:\n",
    "\t\t\tmother_edu.at['初中','大学及以上']+=1\n",
    "\telif respondent['a7a'][i]<=8:\n",
    "\n",
    "\t\tif father['a89b'][i]<=3:\n",
    "\t\t\tfather_edu.at['高中','小学及以下']+=1\n",
    "\t\telif father['a89b'][i] == 4:\n",
    "\t\t\tfather_edu.at['高中','初中']+=1\n",
    "\t\telif father['a89b'][i]<=8:\n",
    "\t\t\tfather_edu.at['高中','高中']+=1\n",
    "\t\telse:\n",
    "\t\t\tfather_edu.at['高中','大学及以上']+=1\n",
    "\n",
    "\t\tif mother['a90b'][i]<=3:\n",
    "\t\t\tmother_edu.at['高中','小学及以下']+=1\n",
    "\t\telif mother['a90b'][i] == 4:\n",
    "\t\t\tmother_edu.at['高中','初中']+=1\n",
    "\t\telif mother['a90b'][i]<=8:\n",
    "\t\t\tmother_edu.at['高中','高中']+=1\n",
    "\t\telse:\n",
    "\t\t\tmother_edu.at['高中','大学及以上']+=1\n",
    "\n",
    "\telse:\n",
    "\t\tif father['a89b'][i]<=3:\n",
    "\t\t\tfather_edu.at['大学及以上','小学及以下']+=1\n",
    "\t\telif father['a89b'][i] == 4:\n",
    "\t\t\tfather_edu.at['大学及以上','初中']+=1\n",
    "\t\telif father['a89b'][i]<=8:\n",
    "\t\t\tfather_edu.at['大学及以上','高中']+=1\n",
    "\t\telse:\n",
    "\t\t\tfather_edu.at['大学及以上','大学及以上']+=1\n",
    "\n",
    "\t\tif mother['a90b'][i]<=3:\n",
    "\t\t\tmother_edu.at['大学及以上','小学及以下']+=1\n",
    "\t\telif mother['a90b'][i] == 4:\n",
    "\t\t\tmother_edu.at['大学及以上','初中']+=1\n",
    "\t\telif mother['a90b'][i]<=8:\n",
    "\t\t\tmother_edu.at['大学及以上','高中']+=1\n",
    "\t\telse:\n",
    "\t\t\tmother_edu.at['大学及以上','大学及以上']+=1\n",
    "father_edu,mother_edu,len(df)"
   ]
  },
  {
   "cell_type": "code",
   "execution_count": 12,
   "metadata": {
    "collapsed": false
   },
   "outputs": [],
   "source": []
  }
 ],
 "metadata": {
  "kernelspec": {
   "display_name": "Python 3.9.13 64-bit (microsoft store)",
   "language": "python",
   "name": "python3"
  },
  "language_info": {
   "codemirror_mode": {
    "name": "ipython",
    "version": 2
   },
   "file_extension": ".py",
   "mimetype": "text/x-python",
   "name": "python",
   "nbconvert_exporter": "python",
   "pygments_lexer": "ipython2",
   "version": "3.9.13"
  },
  "vscode": {
   "interpreter": {
    "hash": "269e12486f479ab2021ef67afb6ec518cef4f994b3142ffabf4dffded0fb46d1"
   }
  }
 },
 "nbformat": 4,
 "nbformat_minor": 0
}
