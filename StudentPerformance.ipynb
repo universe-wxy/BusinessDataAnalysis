{
 "cells": [
  {
   "cell_type": "code",
   "execution_count": 162,
   "metadata": {
    "collapsed": true
   },
   "outputs": [],
   "source": [
    "import numpy as np\n",
    "import pandas as pd\n",
    "import scipy.stats as stats\n",
    "import matplotlib.pyplot as plt\n",
    "import seaborn as sns\n",
    "import plotly.express as px\n",
    "import plotly.graph_objects as go\n",
    "from plotly.subplots import make_subplots\n",
    "import scipy"
   ]
  },
  {
   "cell_type": "code",
   "execution_count": 163,
   "metadata": {
    "collapsed": false
   },
   "outputs": [
    {
     "name": "stdout",
     "output_type": "stream",
     "text": [
      "<class 'pandas.core.frame.DataFrame'>\n",
      "RangeIndex: 1000 entries, 0 to 999\n",
      "Data columns (total 8 columns):\n",
      " #   Column                       Non-Null Count  Dtype \n",
      "---  ------                       --------------  ----- \n",
      " 0   gender                       1000 non-null   object\n",
      " 1   race/ethnicity               1000 non-null   object\n",
      " 2   parental level of education  1000 non-null   object\n",
      " 3   lunch                        1000 non-null   object\n",
      " 4   test preparation course      1000 non-null   object\n",
      " 5   math score                   1000 non-null   int64 \n",
      " 6   reading score                1000 non-null   int64 \n",
      " 7   writing score                1000 non-null   int64 \n",
      "dtypes: int64(3), object(5)\n",
      "memory usage: 62.6+ KB\n"
     ]
    }
   ],
   "source": [
    "#读取数据\n",
    "data=pd.read_csv('./StudentsPerformance.csv')\n",
    "data.info()"
   ]
  },
  {
   "cell_type": "code",
   "execution_count": 164,
   "metadata": {
    "collapsed": false
   },
   "outputs": [
    {
     "name": "stdout",
     "output_type": "stream",
     "text": [
      "group C    319\n",
      "group D    262\n",
      "group B    190\n",
      "group E    140\n",
      "group A     89\n",
      "Name: race/ethnicity, dtype: int64\n",
      "**************************************************\n",
      "some college          226\n",
      "associate's degree    222\n",
      "high school           196\n",
      "some high school      179\n",
      "bachelor's degree     118\n",
      "master's degree        59\n",
      "Name: parental level of education, dtype: int64\n",
      "**************************************************\n",
      "standard        645\n",
      "free/reduced    355\n",
      "Name: lunch, dtype: int64\n",
      "**************************************************\n",
      "none         642\n",
      "completed    358\n",
      "Name: test preparation course, dtype: int64\n",
      "**************************************************\n"
     ]
    }
   ],
   "source": [
    "#查看表单数据\n",
    "labels=['race/ethnicity', 'parental level of education', 'lunch', 'test preparation course']\n",
    "for label in labels:\n",
    "    print(data[label].value_counts())\n",
    "    print('*'*50)"
   ]
  },
  {
   "cell_type": "code",
   "execution_count": 165,
   "metadata": {
    "collapsed": false
   },
   "outputs": [
    {
     "data": {
      "text/html": [
       "<div>\n",
       "<style scoped>\n",
       "    .dataframe tbody tr th:only-of-type {\n",
       "        vertical-align: middle;\n",
       "    }\n",
       "\n",
       "    .dataframe tbody tr th {\n",
       "        vertical-align: top;\n",
       "    }\n",
       "\n",
       "    .dataframe thead th {\n",
       "        text-align: right;\n",
       "    }\n",
       "</style>\n",
       "<table border=\"1\" class=\"dataframe\">\n",
       "  <thead>\n",
       "    <tr style=\"text-align: right;\">\n",
       "      <th></th>\n",
       "      <th>gender</th>\n",
       "      <th>race/ethnicity</th>\n",
       "      <th>parental level of education</th>\n",
       "      <th>lunch</th>\n",
       "      <th>test preparation course</th>\n",
       "      <th>math score</th>\n",
       "      <th>reading score</th>\n",
       "      <th>writing score</th>\n",
       "      <th>average score</th>\n",
       "      <th>performance level</th>\n",
       "    </tr>\n",
       "  </thead>\n",
       "  <tbody>\n",
       "    <tr>\n",
       "      <th>787</th>\n",
       "      <td>female</td>\n",
       "      <td>group B</td>\n",
       "      <td>some college</td>\n",
       "      <td>standard</td>\n",
       "      <td>none</td>\n",
       "      <td>19</td>\n",
       "      <td>38</td>\n",
       "      <td>32</td>\n",
       "      <td>29.67</td>\n",
       "      <td>F</td>\n",
       "    </tr>\n",
       "    <tr>\n",
       "      <th>649</th>\n",
       "      <td>female</td>\n",
       "      <td>group D</td>\n",
       "      <td>some college</td>\n",
       "      <td>standard</td>\n",
       "      <td>completed</td>\n",
       "      <td>69</td>\n",
       "      <td>79</td>\n",
       "      <td>81</td>\n",
       "      <td>76.33</td>\n",
       "      <td>C</td>\n",
       "    </tr>\n",
       "    <tr>\n",
       "      <th>593</th>\n",
       "      <td>female</td>\n",
       "      <td>group E</td>\n",
       "      <td>high school</td>\n",
       "      <td>standard</td>\n",
       "      <td>none</td>\n",
       "      <td>74</td>\n",
       "      <td>76</td>\n",
       "      <td>73</td>\n",
       "      <td>74.33</td>\n",
       "      <td>C</td>\n",
       "    </tr>\n",
       "    <tr>\n",
       "      <th>925</th>\n",
       "      <td>male</td>\n",
       "      <td>group E</td>\n",
       "      <td>some high school</td>\n",
       "      <td>standard</td>\n",
       "      <td>completed</td>\n",
       "      <td>74</td>\n",
       "      <td>64</td>\n",
       "      <td>60</td>\n",
       "      <td>66.00</td>\n",
       "      <td>D</td>\n",
       "    </tr>\n",
       "  </tbody>\n",
       "</table>\n",
       "</div>"
      ],
      "text/plain": [
       "     gender race/ethnicity parental level of education     lunch  \\\n",
       "787  female        group B                some college  standard   \n",
       "649  female        group D                some college  standard   \n",
       "593  female        group E                 high school  standard   \n",
       "925    male        group E            some high school  standard   \n",
       "\n",
       "    test preparation course  math score  reading score  writing score  \\\n",
       "787                    none          19             38             32   \n",
       "649               completed          69             79             81   \n",
       "593                    none          74             76             73   \n",
       "925               completed          74             64             60   \n",
       "\n",
       "     average score performance level  \n",
       "787          29.67                 F  \n",
       "649          76.33                 C  \n",
       "593          74.33                 C  \n",
       "925          66.00                 D  "
      ]
     },
     "execution_count": 165,
     "metadata": {},
     "output_type": "execute_result"
    }
   ],
   "source": [
    "#对成绩情况进行预处理\n",
    "average=data[['math score', 'reading score', 'writing score']].mean(axis=1)\n",
    "data.insert(8,'average score',np.round(average,decimals=2))\n",
    "performance_level=pd.cut(data['average score'],bins=[0,60,70,80,90,100],labels=['F','D','C','B','A'])\n",
    "data.insert(9,'performance level',performance_level)\n",
    "data.sample(4)"
   ]
  },
  {
   "cell_type": "code",
   "execution_count": 178,
   "metadata": {
    "collapsed": false
   },
   "outputs": [
    {
     "data": {
      "image/png": "[encoded data removed]",
      "text/plain": [
       "<Figure size 500x600 with 3 Axes>"
      ]
     },
     "metadata": {},
     "output_type": "display_data"
    }
   ],
   "source": [
    "plt.figure(num='Score Distribution',figsize=(5,6))\n",
    "sns.set_style('darkgrid')\n",
    "subjects = ['math score', 'reading score', 'writing score']\n",
    "color = ['green', 'blue', 'orange']\n",
    "column = 1\n",
    "for subject in subjects:\n",
    "    plt.subplot(len(subjects), 1, column)\n",
    "    sns.kdeplot(data=data, x=subject, color=color[column - 1])\n",
    "    column = column + 1\n",
    "    plt.title(\"{} distribution\".format(subject))\n",
    "plt.tight_layout()\n",
    "plt.show()"
   ]
  },
  {
   "cell_type": "code",
   "execution_count": 167,
   "metadata": {
    "collapsed": false
   },
   "outputs": [
    {
     "data": {
      "text/plain": [
       "0.25494516431731784"
      ]
     },
     "execution_count": 167,
     "metadata": {},
     "output_type": "execute_result"
    }
   ],
   "source": [
    "#随机抽样的卡方检验(根据男女比例确定该抽样是否随机)\n",
    "gender=data['gender'].unique()\n",
    "expected_number=[500,500]\n",
    "observed_number=data['gender'].value_counts().values.tolist()\n",
    "result=stats.chisquare(f_obs=observed_number,f_exp=expected_number)\n",
    "result[1]"
   ]
  },
  {
   "cell_type": "code",
   "execution_count": 168,
   "metadata": {
    "collapsed": false
   },
   "outputs": [
    {
     "data": {
      "image/png": "[encoded data removed]",
      "text/plain": [
       "<Figure size 640x480 with 2 Axes>"
      ]
     },
     "metadata": {},
     "output_type": "display_data"
    }
   ],
   "source": [
    "#成绩间的相关性\n",
    "fig = plt.figure()\n",
    "plt.subplot()\n",
    "sns.heatmap(data[subjects].corr(), annot=True)\n",
    "plt.show()"
   ]
  },
  {
   "cell_type": "code",
   "execution_count": 169,
   "metadata": {},
   "outputs": [
    {
     "data": {
      "text/html": [
       "<div>\n",
       "<style scoped>\n",
       "    .dataframe tbody tr th:only-of-type {\n",
       "        vertical-align: middle;\n",
       "    }\n",
       "\n",
       "    .dataframe tbody tr th {\n",
       "        vertical-align: top;\n",
       "    }\n",
       "\n",
       "    .dataframe thead tr th {\n",
       "        text-align: left;\n",
       "    }\n",
       "\n",
       "    .dataframe thead tr:last-of-type th {\n",
       "        text-align: right;\n",
       "    }\n",
       "</style>\n",
       "<table border=\"1\" class=\"dataframe\">\n",
       "  <thead>\n",
       "    <tr>\n",
       "      <th></th>\n",
       "      <th colspan=\"2\" halign=\"left\">math score</th>\n",
       "    </tr>\n",
       "    <tr>\n",
       "      <th></th>\n",
       "      <th>mean</th>\n",
       "      <th>median</th>\n",
       "    </tr>\n",
       "    <tr>\n",
       "      <th>gender</th>\n",
       "      <th></th>\n",
       "      <th></th>\n",
       "    </tr>\n",
       "  </thead>\n",
       "  <tbody>\n",
       "    <tr>\n",
       "      <th>female</th>\n",
       "      <td>63.633205</td>\n",
       "      <td>65.0</td>\n",
       "    </tr>\n",
       "    <tr>\n",
       "      <th>male</th>\n",
       "      <td>68.728216</td>\n",
       "      <td>69.0</td>\n",
       "    </tr>\n",
       "  </tbody>\n",
       "</table>\n",
       "</div>"
      ],
      "text/plain": [
       "       math score       \n",
       "             mean median\n",
       "gender                  \n",
       "female  63.633205   65.0\n",
       "male    68.728216   69.0"
      ]
     },
     "execution_count": 169,
     "metadata": {},
     "output_type": "execute_result"
    }
   ],
   "source": [
    "data.groupby('gender')[['math score']].agg([np.mean, np.median])"
   ]
  },
  {
   "cell_type": "code",
   "execution_count": 170,
   "metadata": {
    "collapsed": false
   },
   "outputs": [
    {
     "data": {
      "image/png": "[encoded data removed]",
      "text/plain": [
       "<Figure size 1000x500 with 2 Axes>"
      ]
     },
     "metadata": {},
     "output_type": "display_data"
    }
   ],
   "source": [
    "fig, ax  = plt.subplots(1,2, figsize=(10, 5))\n",
    "sns.boxplot(data=data, y='math score', x='gender', palette='summer', ax=ax[0])\n",
    "sns.histplot(data=data, x='math score', hue='gender', fill=True, ax=ax[1], stat='probability')\n",
    "plt.show()"
   ]
  },
  {
   "cell_type": "code",
   "execution_count": 171,
   "metadata": {
    "collapsed": false
   },
   "outputs": [
    {
     "data": {
      "text/plain": [
       "7.221116786466189e-05"
      ]
     },
     "execution_count": 171,
     "metadata": {},
     "output_type": "execute_result"
    }
   ],
   "source": [
    "#检验学生数学成绩与性别间的关系\n",
    "math_grading = pd.cut(data['math score'], bins=[0, 60, 70, 80, 90, 100],\n",
    "                                   labels=['F', 'D', 'C', 'B', 'A'] )\n",
    "crosstab = pd.crosstab(math_grading, data['gender'])\n",
    "result = stats.chi2_contingency(crosstab)\n",
    "result[1]"
   ]
  },
  {
   "cell_type": "code",
   "execution_count": 172,
   "metadata": {
    "collapsed": false
   },
   "outputs": [
    {
     "data": {
      "application/vnd.plotly.v1+json": {
       "config": {
        "plotlyServerURL": "https://plot.ly"
       },
       "data": [
        {
         "alignmentgroup": "True",
         "bingroup": "x",
         "histnorm": "probability",
         "hovertemplate": "gender=female<br>writing score=%{x}<br>probability=%{y}<extra></extra>",
         "legendgroup": "female",
         "marker": {
          "color": "#636efa",
          "opacity": 0.6,
          "pattern": {
           "shape": ""
          }
         },
         "name": "female",
         "offsetgroup": "female",
         "orientation": "v",
         "showlegend": true,
         "type": "histogram",
         "x": [
          74,
          88,
          93,
          78,
          92,
          50,
          73,
          58,
          78,
          28,
          61,
          70,
          73,
          75,
          75,
          74,
          61,
          65,
          83,
          59,
          88,
          68,
          65,
          54,
          62,
          76,
          76,
          87,
          43,
          86,
          10,
          71,
          59,
          74,
          57,
          73,
          48,
          72,
          68,
          50,
          82,
          88,
          74,
          67,
          82,
          74,
          92,
          70,
          62,
          62,
          89,
          72,
          100,
          70,
          72,
          98,
          54,
          100,
          82,
          79,
          61,
          65,
          89,
          93,
          86,
          51,
          84,
          67,
          71,
          64,
          54,
          33,
          81,
          66,
          88,
          78,
          87,
          85,
          91,
          100,
          78,
          78,
          70,
          81,
          70,
          54,
          87,
          58,
          77,
          62,
          100,
          66,
          47,
          70,
          87,
          69,
          66,
          85,
          55,
          76,
          86,
          77,
          68,
          76,
          66,
          60,
          88,
          39,
          74,
          62,
          73,
          54,
          71,
          94,
          83,
          74,
          83,
          55,
          68,
          62,
          83,
          70,
          70,
          68,
          78,
          81,
          77,
          51,
          90,
          81,
          77,
          95,
          70,
          58,
          71,
          93,
          75,
          80,
          84,
          78,
          46,
          82,
          75,
          81,
          83,
          67,
          52,
          80,
          69,
          75,
          91,
          63,
          84,
          79,
          80,
          53,
          43,
          94,
          51,
          95,
          66,
          27,
          60,
          63,
          74,
          75,
          95,
          69,
          80,
          57,
          70,
          70,
          69,
          89,
          59,
          58,
          32,
          58,
          85,
          70,
          96,
          73,
          82,
          100,
          77,
          83,
          45,
          43,
          75,
          70,
          67,
          64,
          77,
          77,
          63,
          95,
          67,
          55,
          100,
          62,
          68,
          77,
          56,
          74,
          79,
          93,
          64,
          67,
          80,
          62,
          70,
          50,
          79,
          80,
          69,
          76,
          77,
          85,
          97,
          74,
          62,
          89,
          100,
          76,
          91,
          91,
          38,
          85,
          90,
          74,
          84,
          61,
          91,
          83,
          70,
          56,
          54,
          74,
          76,
          70,
          90,
          90,
          68,
          52,
          76,
          68,
          82,
          92,
          92,
          54,
          80,
          87,
          62,
          94,
          85,
          84,
          73,
          78,
          79,
          84,
          43,
          47,
          70,
          73,
          53,
          94,
          83,
          62,
          79,
          89,
          66,
          97,
          64,
          50,
          33,
          79,
          70,
          79,
          74,
          80,
          100,
          78,
          56,
          64,
          71,
          89,
          58,
          68,
          96,
          80,
          78,
          80,
          77,
          76,
          73,
          62,
          65,
          65,
          73,
          99,
          72,
          73,
          81,
          63,
          30,
          80,
          82,
          54,
          62,
          65,
          66,
          74,
          93,
          72,
          38,
          54,
          62,
          55,
          81,
          85,
          81,
          88,
          73,
          90,
          79,
          80,
          81,
          65,
          68,
          55,
          81,
          76,
          98,
          74,
          79,
          67,
          58,
          69,
          67,
          60,
          71,
          87,
          68,
          76,
          84,
          78,
          66,
          76,
          76,
          74,
          44,
          100,
          53,
          78,
          81,
          73,
          56,
          86,
          90,
          70,
          79,
          82,
          72,
          67,
          64,
          58,
          85,
          99,
          74,
          87,
          99,
          74,
          70,
          88,
          77,
          84,
          80,
          94,
          57,
          73,
          56,
          82,
          72,
          59,
          85,
          92,
          65,
          64,
          54,
          63,
          72,
          77,
          75,
          72,
          79,
          55,
          70,
          43,
          82,
          57,
          84,
          82,
          62,
          44,
          77,
          32,
          61,
          60,
          70,
          51,
          73,
          81,
          57,
          95,
          87,
          78,
          75,
          40,
          67,
          83,
          64,
          68,
          88,
          92,
          93,
          82,
          52,
          70,
          76,
          81,
          57,
          89,
          89,
          74,
          79,
          73,
          46,
          36,
          64,
          68,
          63,
          93,
          96,
          81,
          53,
          87,
          80,
          76,
          61,
          80,
          74,
          70,
          71,
          54,
          80,
          95,
          74,
          91,
          85,
          73,
          69,
          38,
          79,
          82,
          74,
          41,
          100,
          84,
          91,
          72,
          82,
          66,
          66,
          55,
          66,
          52,
          80,
          46,
          65,
          71,
          51,
          57,
          96,
          61,
          58,
          60,
          73,
          83,
          72,
          69,
          100,
          59,
          64,
          53,
          100,
          75,
          72,
          67,
          80,
          100,
          60,
          61,
          67,
          77,
          94,
          23,
          91,
          82,
          51,
          45,
          83,
          78,
          76,
          74,
          95,
          65,
          77,
          86
         ],
         "xaxis": "x",
         "yaxis": "y"
        },
        {
         "alignmentgroup": "True",
         "hovertemplate": "gender=female<br>writing score=%{x}<extra></extra>",
         "legendgroup": "female",
         "marker": {
          "color": "#636efa"
         },
         "name": "female",
         "notched": true,
         "offsetgroup": "female",
         "showlegend": false,
         "type": "box",
         "x": [
          74,
          88,
          93,
          78,
          92,
          50,
          73,
          58,
          78,
          28,
          61,
          70,
          73,
          75,
          75,
          74,
          61,
          65,
          83,
          59,
          88,
          68,
          65,
          54,
          62,
          76,
          76,
          87,
          43,
          86,
          10,
          71,
          59,
          74,
          57,
          73,
          48,
          72,
          68,
          50,
          82,
          88,
          74,
          67,
          82,
          74,
          92,
          70,
          62,
          62,
          89,
          72,
          100,
          70,
          72,
          98,
          54,
          100,
          82,
          79,
          61,
          65,
          89,
          93,
          86,
          51,
          84,
          67,
          71,
          64,
          54,
          33,
          81,
          66,
          88,
          78,
          87,
          85,
          91,
          100,
          78,
          78,
          70,
          81,
          70,
          54,
          87,
          58,
          77,
          62,
          100,
          66,
          47,
          70,
          87,
          69,
          66,
          85,
          55,
          76,
          86,
          77,
          68,
          76,
          66,
          60,
          88,
          39,
          74,
          62,
          73,
          54,
          71,
          94,
          83,
          74,
          83,
          55,
          68,
          62,
          83,
          70,
          70,
          68,
          78,
          81,
          77,
          51,
          90,
          81,
          77,
          95,
          70,
          58,
          71,
          93,
          75,
          80,
          84,
          78,
          46,
          82,
          75,
          81,
          83,
          67,
          52,
          80,
          69,
          75,
          91,
          63,
          84,
          79,
          80,
          53,
          43,
          94,
          51,
          95,
          66,
          27,
          60,
          63,
          74,
          75,
          95,
          69,
          80,
          57,
          70,
          70,
          69,
          89,
          59,
          58,
          32,
          58,
          85,
          70,
          96,
          73,
          82,
          100,
          77,
          83,
          45,
          43,
          75,
          70,
          67,
          64,
          77,
          77,
          63,
          95,
          67,
          55,
          100,
          62,
          68,
          77,
          56,
          74,
          79,
          93,
          64,
          67,
          80,
          62,
          70,
          50,
          79,
          80,
          69,
          76,
          77,
          85,
          97,
          74,
          62,
          89,
          100,
          76,
          91,
          91,
          38,
          85,
          90,
          74,
          84,
          61,
          91,
          83,
          70,
          56,
          54,
          74,
          76,
          70,
          90,
          90,
          68,
          52,
          76,
          68,
          82,
          92,
          92,
          54,
          80,
          87,
          62,
          94,
          85,
          84,
          73,
          78,
          79,
          84,
          43,
          47,
          70,
          73,
          53,
          94,
          83,
          62,
          79,
          89,
          66,
          97,
          64,
          50,
          33,
          79,
          70,
          79,
          74,
          80,
          100,
          78,
          56,
          64,
          71,
          89,
          58,
          68,
          96,
          80,
          78,
          80,
          77,
          76,
          73,
          62,
          65,
          65,
          73,
          99,
          72,
          73,
          81,
          63,
          30,
          80,
          82,
          54,
          62,
          65,
          66,
          74,
          93,
          72,
          38,
          54,
          62,
          55,
          81,
          85,
          81,
          88,
          73,
          90,
          79,
          80,
          81,
          65,
          68,
          55,
          81,
          76,
          98,
          74,
          79,
          67,
          58,
          69,
          67,
          60,
          71,
          87,
          68,
          76,
          84,
          78,
          66,
          76,
          76,
          74,
          44,
          100,
          53,
          78,
          81,
          73,
          56,
          86,
          90,
          70,
          79,
          82,
          72,
          67,
          64,
          58,
          85,
          99,
          74,
          87,
          99,
          74,
          70,
          88,
          77,
          84,
          80,
          94,
          57,
          73,
          56,
          82,
          72,
          59,
          85,
          92,
          65,
          64,
          54,
          63,
          72,
          77,
          75,
          72,
          79,
          55,
          70,
          43,
          82,
          57,
          84,
          82,
          62,
          44,
          77,
          32,
          61,
          60,
          70,
          51,
          73,
          81,
          57,
          95,
          87,
          78,
          75,
          40,
          67,
          83,
          64,
          68,
          88,
          92,
          93,
          82,
          52,
          70,
          76,
          81,
          57,
          89,
          89,
          74,
          79,
          73,
          46,
          36,
          64,
          68,
          63,
          93,
          96,
          81,
          53,
          87,
          80,
          76,
          61,
          80,
          74,
          70,
          71,
          54,
          80,
          95,
          74,
          91,
          85,
          73,
          69,
          38,
          79,
          82,
          74,
          41,
          100,
          84,
          91,
          72,
          82,
          66,
          66,
          55,
          66,
          52,
          80,
          46,
          65,
          71,
          51,
          57,
          96,
          61,
          58,
          60,
          73,
          83,
          72,
          69,
          100,
          59,
          64,
          53,
          100,
          75,
          72,
          67,
          80,
          100,
          60,
          61,
          67,
          77,
          94,
          23,
          91,
          82,
          51,
          45,
          83,
          78,
          76,
          74,
          95,
          65,
          77,
          86
         ],
         "xaxis": "x2",
         "yaxis": "y2"
        },
        {
         "alignmentgroup": "True",
         "bingroup": "x",
         "histnorm": "probability",
         "hovertemplate": "gender=male<br>writing score=%{x}<br>probability=%{y}<extra></extra>",
         "legendgroup": "male",
         "marker": {
          "color": "#EF553B",
          "opacity": 0.6,
          "pattern": {
           "shape": ""
          }
         },
         "name": "male",
         "offsetgroup": "male",
         "orientation": "v",
         "showlegend": true,
         "type": "histogram",
         "x": [
          44,
          75,
          39,
          67,
          52,
          43,
          70,
          86,
          46,
          63,
          53,
          80,
          72,
          55,
          65,
          38,
          82,
          79,
          57,
          54,
          66,
          57,
          82,
          48,
          68,
          42,
          75,
          49,
          58,
          72,
          34,
          55,
          61,
          37,
          56,
          63,
          56,
          41,
          38,
          22,
          81,
          45,
          54,
          63,
          34,
          36,
          71,
          50,
          82,
          62,
          67,
          74,
          47,
          90,
          64,
          49,
          47,
          74,
          92,
          56,
          73,
          67,
          74,
          74,
          82,
          40,
          70,
          75,
          48,
          41,
          56,
          69,
          47,
          78,
          75,
          66,
          93,
          69,
          68,
          47,
          61,
          60,
          64,
          74,
          52,
          49,
          51,
          74,
          78,
          75,
          49,
          65,
          65,
          68,
          45,
          79,
          62,
          52,
          65,
          51,
          69,
          42,
          78,
          62,
          76,
          79,
          27,
          56,
          81,
          75,
          70,
          56,
          73,
          75,
          54,
          64,
          66,
          42,
          78,
          84,
          77,
          67,
          51,
          80,
          66,
          43,
          69,
          71,
          74,
          53,
          49,
          72,
          52,
          77,
          78,
          68,
          41,
          61,
          42,
          76,
          73,
          57,
          42,
          46,
          82,
          88,
          76,
          77,
          68,
          70,
          57,
          80,
          60,
          43,
          68,
          50,
          75,
          81,
          52,
          64,
          69,
          81,
          44,
          57,
          68,
          65,
          78,
          69,
          62,
          19,
          77,
          61,
          35,
          53,
          81,
          69,
          43,
          52,
          67,
          67,
          57,
          66,
          76,
          52,
          61,
          61,
          78,
          58,
          60,
          53,
          61,
          71,
          72,
          41,
          62,
          95,
          71,
          75,
          59,
          67,
          56,
          41,
          57,
          54,
          43,
          63,
          85,
          78,
          60,
          67,
          69,
          68,
          67,
          62,
          54,
          34,
          86,
          65,
          53,
          54,
          59,
          55,
          66,
          53,
          64,
          73,
          51,
          82,
          73,
          60,
          80,
          42,
          72,
          49,
          47,
          48,
          68,
          55,
          45,
          62,
          65,
          76,
          66,
          72,
          67,
          68,
          61,
          46,
          71,
          56,
          57,
          82,
          66,
          72,
          54,
          66,
          54,
          77,
          73,
          43,
          52,
          52,
          57,
          50,
          49,
          59,
          60,
          58,
          68,
          58,
          71,
          86,
          68,
          80,
          80,
          64,
          69,
          65,
          88,
          64,
          40,
          66,
          62,
          92,
          46,
          45,
          47,
          67,
          70,
          92,
          53,
          52,
          54,
          50,
          64,
          15,
          48,
          51,
          90,
          62,
          63,
          91,
          83,
          84,
          68,
          56,
          52,
          86,
          99,
          63,
          46,
          46,
          70,
          65,
          80,
          64,
          74,
          51,
          60,
          53,
          64,
          61,
          85,
          73,
          63,
          63,
          61,
          77,
          50,
          78,
          60,
          60,
          54,
          68,
          68,
          73,
          44,
          83,
          59,
          87,
          65,
          36,
          52,
          79,
          90,
          84,
          72,
          80,
          59,
          42,
          41,
          71,
          57,
          37,
          43,
          44,
          59,
          84,
          73,
          55,
          72,
          47,
          74,
          71,
          68,
          86,
          68,
          65,
          75,
          53,
          52,
          72,
          77,
          86,
          59,
          60,
          57,
          49,
          74,
          60,
          82,
          79,
          61,
          69,
          77,
          70,
          54,
          68,
          73,
          74,
          69,
          51,
          36,
          49,
          76,
          87,
          76,
          51,
          58,
          53,
          58,
          45,
          57,
          53,
          51,
          76,
          84,
          85,
          50,
          69,
          67,
          61,
          55,
          65,
          46,
          72,
          38,
          91,
          88,
          52,
          41,
          72,
          51,
          47,
          78,
          82,
          66,
          84,
          54,
          66,
          44,
          59,
          48,
          75,
          27,
          63,
          89,
          77,
          51,
          70,
          48,
          100,
          91,
          67,
          66,
          69,
          60,
          52,
          44,
          70,
          62,
          73,
          74,
          90,
          58,
          53,
          85,
          69,
          72,
          64,
          61,
          80,
          52,
          71,
          54,
          62,
          81,
          71,
          58,
          64,
          60,
          69,
          60,
          58,
          48,
          78,
          86,
          54,
          76,
          75,
          62,
          55
         ],
         "xaxis": "x",
         "yaxis": "y"
        },
        {
         "alignmentgroup": "True",
         "hovertemplate": "gender=male<br>writing score=%{x}<extra></extra>",
         "legendgroup": "male",
         "marker": {
          "color": "#EF553B"
         },
         "name": "male",
         "notched": true,
         "offsetgroup": "male",
         "showlegend": false,
         "type": "box",
         "x": [
          44,
          75,
          39,
          67,
          52,
          43,
          70,
          86,
          46,
          63,
          53,
          80,
          72,
          55,
          65,
          38,
          82,
          79,
          57,
          54,
          66,
          57,
          82,
          48,
          68,
          42,
          75,
          49,
          58,
          72,
          34,
          55,
          61,
          37,
          56,
          63,
          56,
          41,
          38,
          22,
          81,
          45,
          54,
          63,
          34,
          36,
          71,
          50,
          82,
          62,
          67,
          74,
          47,
          90,
          64,
          49,
          47,
          74,
          92,
          56,
          73,
          67,
          74,
          74,
          82,
          40,
          70,
          75,
          48,
          41,
          56,
          69,
          47,
          78,
          75,
          66,
          93,
          69,
          68,
          47,
          61,
          60,
          64,
          74,
          52,
          49,
          51,
          74,
          78,
          75,
          49,
          65,
          65,
          68,
          45,
          79,
          62,
          52,
          65,
          51,
          69,
          42,
          78,
          62,
          76,
          79,
          27,
          56,
          81,
          75,
          70,
          56,
          73,
          75,
          54,
          64,
          66,
          42,
          78,
          84,
          77,
          67,
          51,
          80,
          66,
          43,
          69,
          71,
          74,
          53,
          49,
          72,
          52,
          77,
          78,
          68,
          41,
          61,
          42,
          76,
          73,
          57,
          42,
          46,
          82,
          88,
          76,
          77,
          68,
          70,
          57,
          80,
          60,
          43,
          68,
          50,
          75,
          81,
          52,
          64,
          69,
          81,
          44,
          57,
          68,
          65,
          78,
          69,
          62,
          19,
          77,
          61,
          35,
          53,
          81,
          69,
          43,
          52,
          67,
          67,
          57,
          66,
          76,
          52,
          61,
          61,
          78,
          58,
          60,
          53,
          61,
          71,
          72,
          41,
          62,
          95,
          71,
          75,
          59,
          67,
          56,
          41,
          57,
          54,
          43,
          63,
          85,
          78,
          60,
          67,
          69,
          68,
          67,
          62,
          54,
          34,
          86,
          65,
          53,
          54,
          59,
          55,
          66,
          53,
          64,
          73,
          51,
          82,
          73,
          60,
          80,
          42,
          72,
          49,
          47,
          48,
          68,
          55,
          45,
          62,
          65,
          76,
          66,
          72,
          67,
          68,
          61,
          46,
          71,
          56,
          57,
          82,
          66,
          72,
          54,
          66,
          54,
          77,
          73,
          43,
          52,
          52,
          57,
          50,
          49,
          59,
          60,
          58,
          68,
          58,
          71,
          86,
          68,
          80,
          80,
          64,
          69,
          65,
          88,
          64,
          40,
          66,
          62,
          92,
          46,
          45,
          47,
          67,
          70,
          92,
          53,
          52,
          54,
          50,
          64,
          15,
          48,
          51,
          90,
          62,
          63,
          91,
          83,
          84,
          68,
          56,
          52,
          86,
          99,
          63,
          46,
          46,
          70,
          65,
          80,
          64,
          74,
          51,
          60,
          53,
          64,
          61,
          85,
          73,
          63,
          63,
          61,
          77,
          50,
          78,
          60,
          60,
          54,
          68,
          68,
          73,
          44,
          83,
          59,
          87,
          65,
          36,
          52,
          79,
          90,
          84,
          72,
          80,
          59,
          42,
          41,
          71,
          57,
          37,
          43,
          44,
          59,
          84,
          73,
          55,
          72,
          47,
          74,
          71,
          68,
          86,
          68,
          65,
          75,
          53,
          52,
          72,
          77,
          86,
          59,
          60,
          57,
          49,
          74,
          60,
          82,
          79,
          61,
          69,
          77,
          70,
          54,
          68,
          73,
          74,
          69,
          51,
          36,
          49,
          76,
          87,
          76,
          51,
          58,
          53,
          58,
          45,
          57,
          53,
          51,
          76,
          84,
          85,
          50,
          69,
          67,
          61,
          55,
          65,
          46,
          72,
          38,
          91,
          88,
          52,
          41,
          72,
          51,
          47,
          78,
          82,
          66,
          84,
          54,
          66,
          44,
          59,
          48,
          75,
          27,
          63,
          89,
          77,
          51,
          70,
          48,
          100,
          91,
          67,
          66,
          69,
          60,
          52,
          44,
          70,
          62,
          73,
          74,
          90,
          58,
          53,
          85,
          69,
          72,
          64,
          61,
          80,
          52,
          71,
          54,
          62,
          81,
          71,
          58,
          64,
          60,
          69,
          60,
          58,
          48,
          78,
          86,
          54,
          76,
          75,
          62,
          55
         ],
         "xaxis": "x2",
         "yaxis": "y2"
        }
       ],
       "layout": {
        "barmode": "overlay",
        "legend": {
         "title": {
          "text": "gender"
         },
         "tracegroupgap": 0
        },
        "template": {
         "data": {
          "bar": [
           {
            "error_x": {
             "color": "#2a3f5f"
            },
            "error_y": {
             "color": "#2a3f5f"
            },
            "marker": {
             "line": {
              "color": "white",
              "width": 0.5
             },
             "pattern": {
              "fillmode": "overlay",
              "size": 10,
              "solidity": 0.2
             }
            },
            "type": "bar"
           }
          ],
          "barpolar": [
           {
            "marker": {
             "line": {
              "color": "white",
              "width": 0.5
             },
             "pattern": {
              "fillmode": "overlay",
              "size": 10,
              "solidity": 0.2
             }
            },
            "type": "barpolar"
           }
          ],
          "carpet": [
           {
            "aaxis": {
             "endlinecolor": "#2a3f5f",
             "gridcolor": "#C8D4E3",
             "linecolor": "#C8D4E3",
             "minorgridcolor": "#C8D4E3",
             "startlinecolor": "#2a3f5f"
            },
            "baxis": {
             "endlinecolor": "#2a3f5f",
             "gridcolor": "#C8D4E3",
             "linecolor": "#C8D4E3",
             "minorgridcolor": "#C8D4E3",
             "startlinecolor": "#2a3f5f"
            },
            "type": "carpet"
           }
          ],
          "choropleth": [
           {
            "colorbar": {
             "outlinewidth": 0,
             "ticks": ""
            },
            "type": "choropleth"
           }
          ],
          "contour": [
           {
            "colorbar": {
             "outlinewidth": 0,
             "ticks": ""
            },
            "colorscale": [
             [
              0,
              "#0d0887"
             ],
             [
              0.1111111111111111,
              "#46039f"
             ],
             [
              0.2222222222222222,
              "#7201a8"
             ],
             [
              0.3333333333333333,
              "#9c179e"
             ],
             [
              0.4444444444444444,
              "#bd3786"
             ],
             [
              0.5555555555555556,
              "#d8576b"
             ],
             [
              0.6666666666666666,
              "#ed7953"
             ],
             [
              0.7777777777777778,
              "#fb9f3a"
             ],
             [
              0.8888888888888888,
              "#fdca26"
             ],
             [
              1,
              "#f0f921"
             ]
            ],
            "type": "contour"
           }
          ],
          "contourcarpet": [
           {
            "colorbar": {
             "outlinewidth": 0,
             "ticks": ""
            },
            "type": "contourcarpet"
           }
          ],
          "heatmap": [
           {
            "colorbar": {
             "outlinewidth": 0,
             "ticks": ""
            },
            "colorscale": [
             [
              0,
              "#0d0887"
             ],
             [
              0.1111111111111111,
              "#46039f"
             ],
             [
              0.2222222222222222,
              "#7201a8"
             ],
             [
              0.3333333333333333,
              "#9c179e"
             ],
             [
              0.4444444444444444,
              "#bd3786"
             ],
             [
              0.5555555555555556,
              "#d8576b"
             ],
             [
              0.6666666666666666,
              "#ed7953"
             ],
             [
              0.7777777777777778,
              "#fb9f3a"
             ],
             [
              0.8888888888888888,
              "#fdca26"
             ],
             [
              1,
              "#f0f921"
             ]
            ],
            "type": "heatmap"
           }
          ],
          "heatmapgl": [
           {
            "colorbar": {
             "outlinewidth": 0,
             "ticks": ""
            },
            "colorscale": [
             [
              0,
              "#0d0887"
             ],
             [
              0.1111111111111111,
              "#46039f"
             ],
             [
              0.2222222222222222,
              "#7201a8"
             ],
             [
              0.3333333333333333,
              "#9c179e"
             ],
             [
              0.4444444444444444,
              "#bd3786"
             ],
             [
              0.5555555555555556,
              "#d8576b"
             ],
             [
              0.6666666666666666,
              "#ed7953"
             ],
             [
              0.7777777777777778,
              "#fb9f3a"
             ],
             [
              0.8888888888888888,
              "#fdca26"
             ],
             [
              1,
              "#f0f921"
             ]
            ],
            "type": "heatmapgl"
           }
          ],
          "histogram": [
           {
            "marker": {
             "pattern": {
              "fillmode": "overlay",
              "size": 10,
              "solidity": 0.2
             }
            },
            "type": "histogram"
           }
          ],
          "histogram2d": [
           {
            "colorbar": {
             "outlinewidth": 0,
             "ticks": ""
            },
            "colorscale": [
             [
              0,
              "#0d0887"
             ],
             [
              0.1111111111111111,
              "#46039f"
             ],
             [
              0.2222222222222222,
              "#7201a8"
             ],
             [
              0.3333333333333333,
              "#9c179e"
             ],
             [
              0.4444444444444444,
              "#bd3786"
             ],
             [
              0.5555555555555556,
              "#d8576b"
             ],
             [
              0.6666666666666666,
              "#ed7953"
             ],
             [
              0.7777777777777778,
              "#fb9f3a"
             ],
             [
              0.8888888888888888,
              "#fdca26"
             ],
             [
              1,
              "#f0f921"
             ]
            ],
            "type": "histogram2d"
           }
          ],
          "histogram2dcontour": [
           {
            "colorbar": {
             "outlinewidth": 0,
             "ticks": ""
            },
            "colorscale": [
             [
              0,
              "#0d0887"
             ],
             [
              0.1111111111111111,
              "#46039f"
             ],
             [
              0.2222222222222222,
              "#7201a8"
             ],
             [
              0.3333333333333333,
              "#9c179e"
             ],
             [
              0.4444444444444444,
              "#bd3786"
             ],
             [
              0.5555555555555556,
              "#d8576b"
             ],
             [
              0.6666666666666666,
              "#ed7953"
             ],
             [
              0.7777777777777778,
              "#fb9f3a"
             ],
             [
              0.8888888888888888,
              "#fdca26"
             ],
             [
              1,
              "#f0f921"
             ]
            ],
            "type": "histogram2dcontour"
           }
          ],
          "mesh3d": [
           {
            "colorbar": {
             "outlinewidth": 0,
             "ticks": ""
            },
            "type": "mesh3d"
           }
          ],
          "parcoords": [
           {
            "line": {
             "colorbar": {
              "outlinewidth": 0,
              "ticks": ""
             }
            },
            "type": "parcoords"
           }
          ],
          "pie": [
           {
            "automargin": true,
            "type": "pie"
           }
          ],
          "scatter": [
           {
            "fillpattern": {
             "fillmode": "overlay",
             "size": 10,
             "solidity": 0.2
            },
            "type": "scatter"
           }
          ],
          "scatter3d": [
           {
            "line": {
             "colorbar": {
              "outlinewidth": 0,
              "ticks": ""
             }
            },
            "marker": {
             "colorbar": {
              "outlinewidth": 0,
              "ticks": ""
             }
            },
            "type": "scatter3d"
           }
          ],
          "scattercarpet": [
           {
            "marker": {
             "colorbar": {
              "outlinewidth": 0,
              "ticks": ""
             }
            },
            "type": "scattercarpet"
           }
          ],
          "scattergeo": [
           {
            "marker": {
             "colorbar": {
              "outlinewidth": 0,
              "ticks": ""
             }
            },
            "type": "scattergeo"
           }
          ],
          "scattergl": [
           {
            "marker": {
             "colorbar": {
              "outlinewidth": 0,
              "ticks": ""
             }
            },
            "type": "scattergl"
           }
          ],
          "scattermapbox": [
           {
            "marker": {
             "colorbar": {
              "outlinewidth": 0,
              "ticks": ""
             }
            },
            "type": "scattermapbox"
           }
          ],
          "scatterpolar": [
           {
            "marker": {
             "colorbar": {
              "outlinewidth": 0,
              "ticks": ""
             }
            },
            "type": "scatterpolar"
           }
          ],
          "scatterpolargl": [
           {
            "marker": {
             "colorbar": {
              "outlinewidth": 0,
              "ticks": ""
             }
            },
            "type": "scatterpolargl"
           }
          ],
          "scatterternary": [
           {
            "marker": {
             "colorbar": {
              "outlinewidth": 0,
              "ticks": ""
             }
            },
            "type": "scatterternary"
           }
          ],
          "surface": [
           {
            "colorbar": {
             "outlinewidth": 0,
             "ticks": ""
            },
            "colorscale": [
             [
              0,
              "#0d0887"
             ],
             [
              0.1111111111111111,
              "#46039f"
             ],
             [
              0.2222222222222222,
              "#7201a8"
             ],
             [
              0.3333333333333333,
              "#9c179e"
             ],
             [
              0.4444444444444444,
              "#bd3786"
             ],
             [
              0.5555555555555556,
              "#d8576b"
             ],
             [
              0.6666666666666666,
              "#ed7953"
             ],
             [
              0.7777777777777778,
              "#fb9f3a"
             ],
             [
              0.8888888888888888,
              "#fdca26"
             ],
             [
              1,
              "#f0f921"
             ]
            ],
            "type": "surface"
           }
          ],
          "table": [
           {
            "cells": {
             "fill": {
              "color": "#EBF0F8"
             },
             "line": {
              "color": "white"
             }
            },
            "header": {
             "fill": {
              "color": "#C8D4E3"
             },
             "line": {
              "color": "white"
             }
            },
            "type": "table"
           }
          ]
         },
         "layout": {
          "annotationdefaults": {
           "arrowcolor": "#2a3f5f",
           "arrowhead": 0,
           "arrowwidth": 1
          },
          "autotypenumbers": "strict",
          "coloraxis": {
           "colorbar": {
            "outlinewidth": 0,
            "ticks": ""
           }
          },
          "colorscale": {
           "diverging": [
            [
             0,
             "#8e0152"
            ],
            [
             0.1,
             "#c51b7d"
            ],
            [
             0.2,
             "#de77ae"
            ],
            [
             0.3,
             "#f1b6da"
            ],
            [
             0.4,
             "#fde0ef"
            ],
            [
             0.5,
             "#f7f7f7"
            ],
            [
             0.6,
             "#e6f5d0"
            ],
            [
             0.7,
             "#b8e186"
            ],
            [
             0.8,
             "#7fbc41"
            ],
            [
             0.9,
             "#4d9221"
            ],
            [
             1,
             "#276419"
            ]
           ],
           "sequential": [
            [
             0,
             "#0d0887"
            ],
            [
             0.1111111111111111,
             "#46039f"
            ],
            [
             0.2222222222222222,
             "#7201a8"
            ],
            [
             0.3333333333333333,
             "#9c179e"
            ],
            [
             0.4444444444444444,
             "#bd3786"
            ],
            [
             0.5555555555555556,
             "#d8576b"
            ],
            [
             0.6666666666666666,
             "#ed7953"
            ],
            [
             0.7777777777777778,
             "#fb9f3a"
            ],
            [
             0.8888888888888888,
             "#fdca26"
            ],
            [
             1,
             "#f0f921"
            ]
           ],
           "sequentialminus": [
            [
             0,
             "#0d0887"
            ],
            [
             0.1111111111111111,
             "#46039f"
            ],
            [
             0.2222222222222222,
             "#7201a8"
            ],
            [
             0.3333333333333333,
             "#9c179e"
            ],
            [
             0.4444444444444444,
             "#bd3786"
            ],
            [
             0.5555555555555556,
             "#d8576b"
            ],
            [
             0.6666666666666666,
             "#ed7953"
            ],
            [
             0.7777777777777778,
             "#fb9f3a"
            ],
            [
             0.8888888888888888,
             "#fdca26"
            ],
            [
             1,
             "#f0f921"
            ]
           ]
          },
          "colorway": [
           "#636efa",
           "#EF553B",
           "#00cc96",
           "#ab63fa",
           "#FFA15A",
           "#19d3f3",
           "#FF6692",
           "#B6E880",
           "#FF97FF",
           "#FECB52"
          ],
          "font": {
           "color": "#2a3f5f"
          },
          "geo": {
           "bgcolor": "white",
           "lakecolor": "white",
           "landcolor": "white",
           "showlakes": true,
           "showland": true,
           "subunitcolor": "#C8D4E3"
          },
          "hoverlabel": {
           "align": "left"
          },
          "hovermode": "closest",
          "mapbox": {
           "style": "light"
          },
          "paper_bgcolor": "white",
          "plot_bgcolor": "white",
          "polar": {
           "angularaxis": {
            "gridcolor": "#EBF0F8",
            "linecolor": "#EBF0F8",
            "ticks": ""
           },
           "bgcolor": "white",
           "radialaxis": {
            "gridcolor": "#EBF0F8",
            "linecolor": "#EBF0F8",
            "ticks": ""
           }
          },
          "scene": {
           "xaxis": {
            "backgroundcolor": "white",
            "gridcolor": "#DFE8F3",
            "gridwidth": 2,
            "linecolor": "#EBF0F8",
            "showbackground": true,
            "ticks": "",
            "zerolinecolor": "#EBF0F8"
           },
           "yaxis": {
            "backgroundcolor": "white",
            "gridcolor": "#DFE8F3",
            "gridwidth": 2,
            "linecolor": "#EBF0F8",
            "showbackground": true,
            "ticks": "",
            "zerolinecolor": "#EBF0F8"
           },
           "zaxis": {
            "backgroundcolor": "white",
            "gridcolor": "#DFE8F3",
            "gridwidth": 2,
            "linecolor": "#EBF0F8",
            "showbackground": true,
            "ticks": "",
            "zerolinecolor": "#EBF0F8"
           }
          },
          "shapedefaults": {
           "line": {
            "color": "#2a3f5f"
           }
          },
          "ternary": {
           "aaxis": {
            "gridcolor": "#DFE8F3",
            "linecolor": "#A2B1C6",
            "ticks": ""
           },
           "baxis": {
            "gridcolor": "#DFE8F3",
            "linecolor": "#A2B1C6",
            "ticks": ""
           },
           "bgcolor": "white",
           "caxis": {
            "gridcolor": "#DFE8F3",
            "linecolor": "#A2B1C6",
            "ticks": ""
           }
          },
          "title": {
           "x": 0.05
          },
          "xaxis": {
           "automargin": true,
           "gridcolor": "#EBF0F8",
           "linecolor": "#EBF0F8",
           "ticks": "",
           "title": {
            "standoff": 15
           },
           "zerolinecolor": "#EBF0F8",
           "zerolinewidth": 2
          },
          "yaxis": {
           "automargin": true,
           "gridcolor": "#EBF0F8",
           "linecolor": "#EBF0F8",
           "ticks": "",
           "title": {
            "standoff": 15
           },
           "zerolinecolor": "#EBF0F8",
           "zerolinewidth": 2
          }
         }
        },
        "title": {
         "text": "男生与女生在文科上的表现"
        },
        "width": 800,
        "xaxis": {
         "anchor": "y",
         "domain": [
          0,
          1
         ],
         "title": {
          "text": "writing score"
         }
        },
        "xaxis2": {
         "anchor": "y2",
         "domain": [
          0,
          1
         ],
         "matches": "x",
         "showgrid": true,
         "showticklabels": false
        },
        "yaxis": {
         "anchor": "x",
         "domain": [
          0,
          0.7326
         ],
         "title": {
          "text": "probability"
         }
        },
        "yaxis2": {
         "anchor": "x2",
         "domain": [
          0.7426,
          1
         ],
         "matches": "y2",
         "showgrid": false,
         "showline": false,
         "showticklabels": false,
         "ticks": ""
        }
       }
      }
     },
     "metadata": {},
     "output_type": "display_data"
    }
   ],
   "source": [
    "data.groupby('gender')[['writing score']].agg([np.mean, np.median])\n",
    "fig = px.histogram(\n",
    "    data, x='writing score',\n",
    "    marginal='box', opacity=0.6,\n",
    "    color='gender',\n",
    "    histnorm='probability',\n",
    "    title='男生与女生在文科上的表现',\n",
    "    template='plotly_white'\n",
    ")\n",
    "\n",
    "fig.update_layout(barmode='overlay', width=800)\n",
    "fig.show()"
   ]
  },
  {
   "cell_type": "code",
   "execution_count": 173,
   "metadata": {
    "collapsed": false
   },
   "outputs": [
    {
     "data": {
      "application/vnd.plotly.v1+json": {
       "config": {
        "plotlyServerURL": "https://plot.ly"
       },
       "data": [
        {
         "domain": {
          "x": [
           0,
           0.45
          ],
          "y": [
           0,
           1
          ]
         },
         "hole": 0.4,
         "labels": [
          "some college",
          "associate's degree",
          "high school",
          "some high school",
          "bachelor's degree",
          "master's degree"
         ],
         "name": "整体学生父母受教育程度",
         "type": "pie",
         "values": [
          226,
          222,
          196,
          179,
          118,
          59
         ]
        },
        {
         "domain": {
          "x": [
           0.55,
           1
          ],
          "y": [
           0,
           1
          ]
         },
         "hole": 0.4,
         "labels": [
          "associate's degree",
          "bachelor's degree",
          "some college",
          "master's degree",
          "some high school",
          "high school"
         ],
         "name": "高分学生父母受教育程度",
         "type": "pie",
         "values": [
          16,
          13,
          11,
          6,
          4,
          2
         ]
        }
       ],
       "layout": {
        "annotations": [
         {
          "font": {
           "size": 20
          },
          "showarrow": false,
          "text": "整体父母",
          "x": 0.15,
          "y": 0.5
         },
         {
          "font": {
           "size": 20
          },
          "showarrow": false,
          "text": "高分父母",
          "x": 0.85,
          "y": 0.5
         }
        ],
        "template": {
         "data": {
          "bar": [
           {
            "error_x": {
             "color": "#2a3f5f"
            },
            "error_y": {
             "color": "#2a3f5f"
            },
            "marker": {
             "line": {
              "color": "#E5ECF6",
              "width": 0.5
             },
             "pattern": {
              "fillmode": "overlay",
              "size": 10,
              "solidity": 0.2
             }
            },
            "type": "bar"
           }
          ],
          "barpolar": [
           {
            "marker": {
             "line": {
              "color": "#E5ECF6",
              "width": 0.5
             },
             "pattern": {
              "fillmode": "overlay",
              "size": 10,
              "solidity": 0.2
             }
            },
            "type": "barpolar"
           }
          ],
          "carpet": [
           {
            "aaxis": {
             "endlinecolor": "#2a3f5f",
             "gridcolor": "white",
             "linecolor": "white",
             "minorgridcolor": "white",
             "startlinecolor": "#2a3f5f"
            },
            "baxis": {
             "endlinecolor": "#2a3f5f",
             "gridcolor": "white",
             "linecolor": "white",
             "minorgridcolor": "white",
             "startlinecolor": "#2a3f5f"
            },
            "type": "carpet"
           }
          ],
          "choropleth": [
           {
            "colorbar": {
             "outlinewidth": 0,
             "ticks": ""
            },
            "type": "choropleth"
           }
          ],
          "contour": [
           {
            "colorbar": {
             "outlinewidth": 0,
             "ticks": ""
            },
            "colorscale": [
             [
              0,
              "#0d0887"
             ],
             [
              0.1111111111111111,
              "#46039f"
             ],
             [
              0.2222222222222222,
              "#7201a8"
             ],
             [
              0.3333333333333333,
              "#9c179e"
             ],
             [
              0.4444444444444444,
              "#bd3786"
             ],
             [
              0.5555555555555556,
              "#d8576b"
             ],
             [
              0.6666666666666666,
              "#ed7953"
             ],
             [
              0.7777777777777778,
              "#fb9f3a"
             ],
             [
              0.8888888888888888,
              "#fdca26"
             ],
             [
              1,
              "#f0f921"
             ]
            ],
            "type": "contour"
           }
          ],
          "contourcarpet": [
           {
            "colorbar": {
             "outlinewidth": 0,
             "ticks": ""
            },
            "type": "contourcarpet"
           }
          ],
          "heatmap": [
           {
            "colorbar": {
             "outlinewidth": 0,
             "ticks": ""
            },
            "colorscale": [
             [
              0,
              "#0d0887"
             ],
             [
              0.1111111111111111,
              "#46039f"
             ],
             [
              0.2222222222222222,
              "#7201a8"
             ],
             [
              0.3333333333333333,
              "#9c179e"
             ],
             [
              0.4444444444444444,
              "#bd3786"
             ],
             [
              0.5555555555555556,
              "#d8576b"
             ],
             [
              0.6666666666666666,
              "#ed7953"
             ],
             [
              0.7777777777777778,
              "#fb9f3a"
             ],
             [
              0.8888888888888888,
              "#fdca26"
             ],
             [
              1,
              "#f0f921"
             ]
            ],
            "type": "heatmap"
           }
          ],
          "heatmapgl": [
           {
            "colorbar": {
             "outlinewidth": 0,
             "ticks": ""
            },
            "colorscale": [
             [
              0,
              "#0d0887"
             ],
             [
              0.1111111111111111,
              "#46039f"
             ],
             [
              0.2222222222222222,
              "#7201a8"
             ],
             [
              0.3333333333333333,
              "#9c179e"
             ],
             [
              0.4444444444444444,
              "#bd3786"
             ],
             [
              0.5555555555555556,
              "#d8576b"
             ],
             [
              0.6666666666666666,
              "#ed7953"
             ],
             [
              0.7777777777777778,
              "#fb9f3a"
             ],
             [
              0.8888888888888888,
              "#fdca26"
             ],
             [
              1,
              "#f0f921"
             ]
            ],
            "type": "heatmapgl"
           }
          ],
          "histogram": [
           {
            "marker": {
             "pattern": {
              "fillmode": "overlay",
              "size": 10,
              "solidity": 0.2
             }
            },
            "type": "histogram"
           }
          ],
          "histogram2d": [
           {
            "colorbar": {
             "outlinewidth": 0,
             "ticks": ""
            },
            "colorscale": [
             [
              0,
              "#0d0887"
             ],
             [
              0.1111111111111111,
              "#46039f"
             ],
             [
              0.2222222222222222,
              "#7201a8"
             ],
             [
              0.3333333333333333,
              "#9c179e"
             ],
             [
              0.4444444444444444,
              "#bd3786"
             ],
             [
              0.5555555555555556,
              "#d8576b"
             ],
             [
              0.6666666666666666,
              "#ed7953"
             ],
             [
              0.7777777777777778,
              "#fb9f3a"
             ],
             [
              0.8888888888888888,
              "#fdca26"
             ],
             [
              1,
              "#f0f921"
             ]
            ],
            "type": "histogram2d"
           }
          ],
          "histogram2dcontour": [
           {
            "colorbar": {
             "outlinewidth": 0,
             "ticks": ""
            },
            "colorscale": [
             [
              0,
              "#0d0887"
             ],
             [
              0.1111111111111111,
              "#46039f"
             ],
             [
              0.2222222222222222,
              "#7201a8"
             ],
             [
              0.3333333333333333,
              "#9c179e"
             ],
             [
              0.4444444444444444,
              "#bd3786"
             ],
             [
              0.5555555555555556,
              "#d8576b"
             ],
             [
              0.6666666666666666,
              "#ed7953"
             ],
             [
              0.7777777777777778,
              "#fb9f3a"
             ],
             [
              0.8888888888888888,
              "#fdca26"
             ],
             [
              1,
              "#f0f921"
             ]
            ],
            "type": "histogram2dcontour"
           }
          ],
          "mesh3d": [
           {
            "colorbar": {
             "outlinewidth": 0,
             "ticks": ""
            },
            "type": "mesh3d"
           }
          ],
          "parcoords": [
           {
            "line": {
             "colorbar": {
              "outlinewidth": 0,
              "ticks": ""
             }
            },
            "type": "parcoords"
           }
          ],
          "pie": [
           {
            "automargin": true,
            "type": "pie"
           }
          ],
          "scatter": [
           {
            "fillpattern": {
             "fillmode": "overlay",
             "size": 10,
             "solidity": 0.2
            },
            "type": "scatter"
           }
          ],
          "scatter3d": [
           {
            "line": {
             "colorbar": {
              "outlinewidth": 0,
              "ticks": ""
             }
            },
            "marker": {
             "colorbar": {
              "outlinewidth": 0,
              "ticks": ""
             }
            },
            "type": "scatter3d"
           }
          ],
          "scattercarpet": [
           {
            "marker": {
             "colorbar": {
              "outlinewidth": 0,
              "ticks": ""
             }
            },
            "type": "scattercarpet"
           }
          ],
          "scattergeo": [
           {
            "marker": {
             "colorbar": {
              "outlinewidth": 0,
              "ticks": ""
             }
            },
            "type": "scattergeo"
           }
          ],
          "scattergl": [
           {
            "marker": {
             "colorbar": {
              "outlinewidth": 0,
              "ticks": ""
             }
            },
            "type": "scattergl"
           }
          ],
          "scattermapbox": [
           {
            "marker": {
             "colorbar": {
              "outlinewidth": 0,
              "ticks": ""
             }
            },
            "type": "scattermapbox"
           }
          ],
          "scatterpolar": [
           {
            "marker": {
             "colorbar": {
              "outlinewidth": 0,
              "ticks": ""
             }
            },
            "type": "scatterpolar"
           }
          ],
          "scatterpolargl": [
           {
            "marker": {
             "colorbar": {
              "outlinewidth": 0,
              "ticks": ""
             }
            },
            "type": "scatterpolargl"
           }
          ],
          "scatterternary": [
           {
            "marker": {
             "colorbar": {
              "outlinewidth": 0,
              "ticks": ""
             }
            },
            "type": "scatterternary"
           }
          ],
          "surface": [
           {
            "colorbar": {
             "outlinewidth": 0,
             "ticks": ""
            },
            "colorscale": [
             [
              0,
              "#0d0887"
             ],
             [
              0.1111111111111111,
              "#46039f"
             ],
             [
              0.2222222222222222,
              "#7201a8"
             ],
             [
              0.3333333333333333,
              "#9c179e"
             ],
             [
              0.4444444444444444,
              "#bd3786"
             ],
             [
              0.5555555555555556,
              "#d8576b"
             ],
             [
              0.6666666666666666,
              "#ed7953"
             ],
             [
              0.7777777777777778,
              "#fb9f3a"
             ],
             [
              0.8888888888888888,
              "#fdca26"
             ],
             [
              1,
              "#f0f921"
             ]
            ],
            "type": "surface"
           }
          ],
          "table": [
           {
            "cells": {
             "fill": {
              "color": "#EBF0F8"
             },
             "line": {
              "color": "white"
             }
            },
            "header": {
             "fill": {
              "color": "#C8D4E3"
             },
             "line": {
              "color": "white"
             }
            },
            "type": "table"
           }
          ]
         },
         "layout": {
          "annotationdefaults": {
           "arrowcolor": "#2a3f5f",
           "arrowhead": 0,
           "arrowwidth": 1
          },
          "autotypenumbers": "strict",
          "coloraxis": {
           "colorbar": {
            "outlinewidth": 0,
            "ticks": ""
           }
          },
          "colorscale": {
           "diverging": [
            [
             0,
             "#8e0152"
            ],
            [
             0.1,
             "#c51b7d"
            ],
            [
             0.2,
             "#de77ae"
            ],
            [
             0.3,
             "#f1b6da"
            ],
            [
             0.4,
             "#fde0ef"
            ],
            [
             0.5,
             "#f7f7f7"
            ],
            [
             0.6,
             "#e6f5d0"
            ],
            [
             0.7,
             "#b8e186"
            ],
            [
             0.8,
             "#7fbc41"
            ],
            [
             0.9,
             "#4d9221"
            ],
            [
             1,
             "#276419"
            ]
           ],
           "sequential": [
            [
             0,
             "#0d0887"
            ],
            [
             0.1111111111111111,
             "#46039f"
            ],
            [
             0.2222222222222222,
             "#7201a8"
            ],
            [
             0.3333333333333333,
             "#9c179e"
            ],
            [
             0.4444444444444444,
             "#bd3786"
            ],
            [
             0.5555555555555556,
             "#d8576b"
            ],
            [
             0.6666666666666666,
             "#ed7953"
            ],
            [
             0.7777777777777778,
             "#fb9f3a"
            ],
            [
             0.8888888888888888,
             "#fdca26"
            ],
            [
             1,
             "#f0f921"
            ]
           ],
           "sequentialminus": [
            [
             0,
             "#0d0887"
            ],
            [
             0.1111111111111111,
             "#46039f"
            ],
            [
             0.2222222222222222,
             "#7201a8"
            ],
            [
             0.3333333333333333,
             "#9c179e"
            ],
            [
             0.4444444444444444,
             "#bd3786"
            ],
            [
             0.5555555555555556,
             "#d8576b"
            ],
            [
             0.6666666666666666,
             "#ed7953"
            ],
            [
             0.7777777777777778,
             "#fb9f3a"
            ],
            [
             0.8888888888888888,
             "#fdca26"
            ],
            [
             1,
             "#f0f921"
            ]
           ]
          },
          "colorway": [
           "#636efa",
           "#EF553B",
           "#00cc96",
           "#ab63fa",
           "#FFA15A",
           "#19d3f3",
           "#FF6692",
           "#B6E880",
           "#FF97FF",
           "#FECB52"
          ],
          "font": {
           "color": "#2a3f5f"
          },
          "geo": {
           "bgcolor": "white",
           "lakecolor": "white",
           "landcolor": "#E5ECF6",
           "showlakes": true,
           "showland": true,
           "subunitcolor": "white"
          },
          "hoverlabel": {
           "align": "left"
          },
          "hovermode": "closest",
          "mapbox": {
           "style": "light"
          },
          "paper_bgcolor": "white",
          "plot_bgcolor": "#E5ECF6",
          "polar": {
           "angularaxis": {
            "gridcolor": "white",
            "linecolor": "white",
            "ticks": ""
           },
           "bgcolor": "#E5ECF6",
           "radialaxis": {
            "gridcolor": "white",
            "linecolor": "white",
            "ticks": ""
           }
          },
          "scene": {
           "xaxis": {
            "backgroundcolor": "#E5ECF6",
            "gridcolor": "white",
            "gridwidth": 2,
            "linecolor": "white",
            "showbackground": true,
            "ticks": "",
            "zerolinecolor": "white"
           },
           "yaxis": {
            "backgroundcolor": "#E5ECF6",
            "gridcolor": "white",
            "gridwidth": 2,
            "linecolor": "white",
            "showbackground": true,
            "ticks": "",
            "zerolinecolor": "white"
           },
           "zaxis": {
            "backgroundcolor": "#E5ECF6",
            "gridcolor": "white",
            "gridwidth": 2,
            "linecolor": "white",
            "showbackground": true,
            "ticks": "",
            "zerolinecolor": "white"
           }
          },
          "shapedefaults": {
           "line": {
            "color": "#2a3f5f"
           }
          },
          "ternary": {
           "aaxis": {
            "gridcolor": "white",
            "linecolor": "white",
            "ticks": ""
           },
           "baxis": {
            "gridcolor": "white",
            "linecolor": "white",
            "ticks": ""
           },
           "bgcolor": "#E5ECF6",
           "caxis": {
            "gridcolor": "white",
            "linecolor": "white",
            "ticks": ""
           }
          },
          "title": {
           "x": 0.05
          },
          "xaxis": {
           "automargin": true,
           "gridcolor": "white",
           "linecolor": "white",
           "ticks": "",
           "title": {
            "standoff": 15
           },
           "zerolinecolor": "white",
           "zerolinewidth": 2
          },
          "yaxis": {
           "automargin": true,
           "gridcolor": "white",
           "linecolor": "white",
           "ticks": "",
           "title": {
            "standoff": 15
           },
           "zerolinecolor": "white",
           "zerolinewidth": 2
          }
         }
        },
        "title": {
         "text": "学生父母受教育程度"
        },
        "width": 900
       }
      }
     },
     "metadata": {},
     "output_type": "display_data"
    }
   ],
   "source": [
    "# 检验学生成绩与父母受教育水平间的关系\n",
    "honor_students = data.loc[data['average score'] >= 90]\n",
    "honor_count = honor_students['parental level of education'].value_counts()\n",
    "total_count = data['parental level of education'].value_counts()\n",
    "\n",
    "fig = make_subplots(rows=1, cols=2, specs=[\n",
    "                    [dict(type='domain'), {'type': 'domain'}]])\n",
    "\n",
    "fig.add_pie(\n",
    "    values=total_count.values, hole=0.4, labels=total_count.index,\n",
    "    row=1, col=1, name='整体学生父母受教育程度'\n",
    ")\n",
    "fig.add_pie(\n",
    "    values=honor_count.values, hole=0.4, labels=honor_count.index,\n",
    "    row=1, col=2, name='高分学生父母受教育程度'\n",
    ")\n",
    "\n",
    "fig.update_layout(\n",
    "    title_text=\"学生父母受教育程度\",\n",
    "    annotations=[dict(text='整体父母', x=0.15, y=0.5, font_size=20, showarrow=False),\n",
    "                 dict(text='高分父母', x=0.85, y=0.5, font_size=20, showarrow=False)],\n",
    "    width=900\n",
    ")\n",
    "fig.show()\n"
   ]
  },
  {
   "cell_type": "code",
   "execution_count": 174,
   "metadata": {},
   "outputs": [
    {
     "data": {
      "text/plain": [
       "parental level of education\n",
       "high school           63.097194\n",
       "some high school      65.107654\n",
       "some college          68.476106\n",
       "associate's degree    69.568964\n",
       "bachelor's degree     71.923983\n",
       "master's degree       73.598644\n",
       "Name: average score, dtype: float64"
      ]
     },
     "execution_count": 174,
     "metadata": {},
     "output_type": "execute_result"
    }
   ],
   "source": [
    "#不同受教育水平父母的子女成绩均分\n",
    "data.groupby('parental level of education')['average score'].mean().sort_values()"
   ]
  },
  {
   "cell_type": "code",
   "execution_count": 175,
   "metadata": {
    "collapsed": false
   },
   "outputs": [
    {
     "data": {
      "text/plain": [
       "9.624582920067994e-06"
      ]
     },
     "execution_count": 175,
     "metadata": {},
     "output_type": "execute_result"
    }
   ],
   "source": [
    "#检验父母受教育水平和子女成绩间的关系\n",
    "crosstab = pd.crosstab(data['parental level of education'], data['performance level'])\n",
    "result = stats.chi2_contingency(crosstab)\n",
    "result[1]"
   ]
  },
  {
   "cell_type": "code",
   "execution_count": 176,
   "metadata": {},
   "outputs": [
    {
     "data": {
      "image/png": "[encoded data removed]",
      "text/plain": [
       "<Figure size 640x480 with 1 Axes>"
      ]
     },
     "metadata": {},
     "output_type": "display_data"
    }
   ],
   "source": [
    "plt.figure(num='test preparation course')\n",
    "conditions=['none','completed']\n",
    "for condition in conditions:\n",
    "    sns.kdeplot(data[data['test preparation course']==condition]['average score'],label=condition)\n",
    "plt.legend()\n",
    "plt.show()"
   ]
  },
  {
   "cell_type": "code",
   "execution_count": 177,
   "metadata": {},
   "outputs": [
    {
     "data": {
      "text/plain": [
       "0.00021324804101736277"
      ]
     },
     "execution_count": 177,
     "metadata": {},
     "output_type": "execute_result"
    }
   ],
   "source": [
    "crosstab = pd.crosstab(data['race/ethnicity'], data['performance level'])\n",
    "result = stats.chi2_contingency(crosstab)\n",
    "result[1]"
   ]
  },
  {
   "cell_type": "code",
   "execution_count": null,
   "metadata": {},
   "outputs": [],
   "source": []
  }
 ],
 "metadata": {
  "kernelspec": {
   "display_name": "Python 3.9.13 ('python': venv)",
   "language": "python",
   "name": "python3"
  },
  "language_info": {
   "codemirror_mode": {
    "name": "ipython",
    "version": 3
   },
   "file_extension": ".py",
   "mimetype": "text/x-python",
   "name": "python",
   "nbconvert_exporter": "python",
   "pygments_lexer": "ipython3",
   "version": "3.9.13"
  },
  "vscode": {
   "interpreter": {
    "hash": "8489b80ffdc495e030d191fd272c53af6fdc47a303c94e82dcfef7150e0d95f7"
   }
  }
 },
 "nbformat": 4,
 "nbformat_minor": 0
}
