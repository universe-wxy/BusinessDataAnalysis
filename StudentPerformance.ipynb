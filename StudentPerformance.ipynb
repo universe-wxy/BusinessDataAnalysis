{
 "cells": [
  {
   "cell_type": "code",
   "execution_count": null,
   "metadata": {
    "collapsed": true
   },
   "outputs": [],
   "source": [
    "import numpy as np\n",
    "import pandas as pd\n",
    "import scipy.stats as stats\n",
    "import matplotlib.pyplot as plt\n",
    "import seaborn as sns\n",
    "import plotly.express as px\n",
    "import plotly.graph_objects as go\n",
    "from plotly.subplots import make_subplots\n",
    "import scipy"
   ]
  },
  {
   "cell_type": "code",
   "execution_count": 81,
   "metadata": {
    "collapsed": false
   },
   "outputs": [
    {
     "name": "stdout",
     "output_type": "stream",
     "text": [
      "<class 'pandas.core.frame.DataFrame'>\n",
      "RangeIndex: 1000 entries, 0 to 999\n",
      "Data columns (total 8 columns):\n",
      " #   Column                       Non-Null Count  Dtype \n",
      "---  ------                       --------------  ----- \n",
      " 0   gender                       1000 non-null   object\n",
      " 1   race/ethnicity               1000 non-null   object\n",
      " 2   parental level of education  1000 non-null   object\n",
      " 3   lunch                        1000 non-null   object\n",
      " 4   test preparation course      1000 non-null   object\n",
      " 5   math score                   1000 non-null   int64 \n",
      " 6   reading score                1000 non-null   int64 \n",
      " 7   writing score                1000 non-null   int64 \n",
      "dtypes: int64(3), object(5)\n",
      "memory usage: 62.6+ KB\n"
     ]
    }
   ],
   "source": [
    "#读取数据\n",
    "data=pd.read_csv('./StudentsPerformance.csv')\n",
    "data.info()"
   ]
  },
  {
   "cell_type": "code",
   "execution_count": null,
   "metadata": {
    "collapsed": false
   },
   "outputs": [],
   "source": [
    "#查看表单数据\n",
    "labels=['race/ethnicity', 'parental level of education', 'lunch', 'test preparation course']\n",
    "for label in labels:\n",
    "    print(data[label].value_counts())\n",
    "    print('*'*50)"
   ]
  },
  {
   "cell_type": "code",
   "execution_count": null,
   "metadata": {
    "collapsed": false
   },
   "outputs": [],
   "source": [
    "#对成绩情况进行预处理\n",
    "average=data[['math score', 'reading score', 'writing score']].mean(axis=1)\n",
    "data.insert(8,'average score',np.round(average,decimals=2))\n",
    "performance_level=pd.cut(data['average score'],bins=[0,60,70,80,90,100],labels=['F','D','C','B','A'])\n",
    "data.insert(9,'performance level',performance_level)\n",
    "data.sample(10)"
   ]
  },
  {
   "cell_type": "code",
   "execution_count": null,
   "metadata": {
    "collapsed": false
   },
   "outputs": [],
   "source": [
    "plt.figure(num='Score Distribution',figsize=(5,8))\n",
    "sns.set_style('darkgrid')\n",
    "subjects = ['math score', 'reading score', 'writing score']\n",
    "color = ['green', 'blue', 'orange']\n",
    "column = 1\n",
    "for subject in subjects:\n",
    "    plt.subplot(len(subjects), 1, column)\n",
    "    sns.kdeplot(data=data, x=subject, color=color[column - 1])\n",
    "    column = column + 1\n",
    "    plt.title(\"{} distribution\".format(subject))\n",
    "plt.tight_layout()\n",
    "plt.show()"
   ]
  },
  {
   "cell_type": "code",
   "execution_count": null,
   "metadata": {
    "collapsed": false
   },
   "outputs": [],
   "source": [
    "#随机抽样的卡方检验(根据男女比例确定该抽样是否随机)\n",
    "gender=data['gender'].unique()\n",
    "expected_number=[500,500]\n",
    "observed_number=data['gender'].value_counts().values.tolist()\n",
    "result=stats.chisquare(f_obs=observed_number,f_exp=expected_number)\n",
    "print(result)"
   ]
  },
  {
   "cell_type": "code",
   "execution_count": null,
   "metadata": {
    "collapsed": false
   },
   "outputs": [],
   "source": [
    "#成绩间的相关性\n",
    "fig = plt.figure()\n",
    "plt.subplot()\n",
    "sns.heatmap(data[subjects].corr(), annot=True)\n",
    "plt.show()"
   ]
  },
  {
   "cell_type": "code",
   "execution_count": null,
   "metadata": {
    "collapsed": false
   },
   "outputs": [],
   "source": [
    "data.groupby('gender')[['math score']].agg([np.mean, np.median])"
   ]
  },
  {
   "cell_type": "code",
   "execution_count": null,
   "metadata": {
    "collapsed": false
   },
   "outputs": [],
   "source": [
    "#检验学生成绩与性别间的关系\n",
    "math_grading = pd.cut(data['math score'], bins=[0, 60, 70, 80, 90, 100],\n",
    "                                   labels=['F', 'D', 'C', 'B', 'A'] )\n",
    "crosstab = pd.crosstab(math_grading, data['gender'])\n",
    "result = stats.chi2_contingency(crosstab)\n",
    "result[1]"
   ]
  },
  {
   "cell_type": "code",
   "execution_count": null,
   "metadata": {
    "collapsed": false
   },
   "outputs": [],
   "source": [
    "fig, ax  = plt.subplots(1,2, figsize=(10, 5))\n",
    "sns.boxplot(data=data, y='math score', x='gender', palette='summer', ax=ax[0])\n",
    "sns.histplot(data=data, x='math score', hue='gender', fill=True, ax=ax[1], stat='probability')\n",
    "plt.show()\n"
   ]
  },
  {
   "cell_type": "code",
   "execution_count": null,
   "metadata": {
    "collapsed": false
   },
   "outputs": [],
   "source": [
    "data.groupby('gender')[['writing score']].agg([np.mean, np.median])\n",
    "fig = px.histogram(\n",
    "    data, x='writing score',\n",
    "    marginal='box', opacity=0.6,\n",
    "    color='gender',\n",
    "    histnorm='probability',\n",
    "    title='男生与女生在文科上的表现',\n",
    "    template='plotly_white'\n",
    ")\n",
    "\n",
    "fig.update_layout(barmode='overlay', width=800)\n",
    "fig.show()"
   ]
  },
  {
   "cell_type": "code",
   "execution_count": null,
   "metadata": {
    "collapsed": false
   },
   "outputs": [],
   "source": [
    "#检验学生成绩与父母受教育水平间的关系\n",
    "honor_students = data.loc[data['average score']>=90] # 选取均分高于0.9的学生，组成子数据集honor_students\n",
    "honor_count = honor_students['parental level of education'].value_counts()\n",
    "total_count = data['parental level of education'].value_counts()\n",
    "\n",
    "fig = make_subplots(rows=1, cols=2, specs=[[dict(type='domain'),{'type':'domain'}]])\n",
    "\n",
    "fig.add_pie(\n",
    "    values=total_count.values, hole=0.4, labels=total_count.index,\n",
    "            row=1, col=1, name='整体学生父母受教育程度'\n",
    ")\n",
    "fig.add_pie(\n",
    "    values=honor_count.values, hole=0.4, labels=honor_count.index,\n",
    "            row=1, col=2, name='高分学生父母受教育程度'\n",
    ")\n",
    "\n",
    "fig.update_layout(\n",
    "    title_text=\"学生父母受教育程度\",\n",
    "    annotations=[dict(text='整体父母', x=0.15, y=0.5, font_size=20, showarrow=False),\n",
    "                 dict(text='高分父母', x=0.85, y=0.5, font_size=20, showarrow=False)],\n",
    "    width=900\n",
    ")\n",
    "fig.show()"
   ]
  },
  {
   "cell_type": "code",
   "execution_count": null,
   "metadata": {
    "collapsed": false
   },
   "outputs": [],
   "source": [
    "crosstab = pd.crosstab(data['parental level of education'], data['performance level'])\n",
    "result = stats.chi2_contingency(crosstab)\n",
    "result[1]"
   ]
  }
 ],
 "metadata": {
  "kernelspec": {
   "display_name": "Python 3.9.13 ('python': venv)",
   "language": "python",
   "name": "python3"
  },
  "language_info": {
   "codemirror_mode": {
    "name": "ipython",
    "version": 3
   },
   "file_extension": ".py",
   "mimetype": "text/x-python",
   "name": "python",
   "nbconvert_exporter": "python",
   "pygments_lexer": "ipython3",
   "version": "3.9.13"
  },
  "vscode": {
   "interpreter": {
    "hash": "8489b80ffdc495e030d191fd272c53af6fdc47a303c94e82dcfef7150e0d95f7"
   }
  }
 },
 "nbformat": 4,
 "nbformat_minor": 0
}
